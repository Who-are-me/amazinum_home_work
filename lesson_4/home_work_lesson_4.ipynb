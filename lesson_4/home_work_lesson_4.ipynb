{
 "cells": [
  {
   "cell_type": "markdown",
   "id": "ab1a737f-5d0a-4072-beeb-bf61834e3189",
   "metadata": {},
   "source": [
    "__README__\n",
    "\n",
    "Ніяких специфічних умов до EDA не написано, то зробив попростіше\n",
    "\n",
    "__BY__\n",
    "\n",
    "__Vasyl Storchak__"
   ]
  },
  {
   "cell_type": "markdown",
   "id": "50da5769-f803-4223-a1db-91c1180e0ebe",
   "metadata": {},
   "source": [
    "__SEE AND WATCH DATA__"
   ]
  },
  {
   "cell_type": "code",
   "execution_count": 175,
   "id": "b78a467f-0876-4a7b-b5ba-15c4dfd380f8",
   "metadata": {},
   "outputs": [],
   "source": [
    "import pandas as pd\n",
    "import matplotlib.pyplot as plt"
   ]
  },
  {
   "cell_type": "code",
   "execution_count": 3,
   "id": "a0f1a799-54aa-45b1-8c36-89d245ec852c",
   "metadata": {},
   "outputs": [],
   "source": [
    "data = pd.read_csv(\"./data/Car_Insurance_Claim.csv\")"
   ]
  },
  {
   "cell_type": "code",
   "execution_count": 4,
   "id": "03db2879-f182-4b68-a10f-f07bd4f3237b",
   "metadata": {},
   "outputs": [
    {
     "name": "stdout",
     "output_type": "stream",
     "text": [
      "<class 'pandas.core.frame.DataFrame'>\n",
      "RangeIndex: 10000 entries, 0 to 9999\n",
      "Data columns (total 20 columns):\n",
      " #   Column               Non-Null Count  Dtype \n",
      "---  ------               --------------  ----- \n",
      " 0   Unnamed: 0           10000 non-null  int64 \n",
      " 1   ID                   10000 non-null  int64 \n",
      " 2   AGE                  9950 non-null   object\n",
      " 3   GENDER               9950 non-null   object\n",
      " 4   RACE                 9951 non-null   object\n",
      " 5   DRIVING_EXPERIENCE   9950 non-null   object\n",
      " 6   EDUCATION            9951 non-null   object\n",
      " 7   INCOME               10000 non-null  object\n",
      " 8   CREDIT_SCORE         8978 non-null   object\n",
      " 9   VEHICLE_OWNERSHIP    9950 non-null   object\n",
      " 10  VEHICLE_YEAR         9950 non-null   object\n",
      " 11  MARRIED              9952 non-null   object\n",
      " 12  CHILDREN             9950 non-null   object\n",
      " 13  POSTAL_CODE          9950 non-null   object\n",
      " 14  ANNUAL_MILEAGE       9000 non-null   object\n",
      " 15  VEHICLE_TYPE         9951 non-null   object\n",
      " 16  SPEEDING_VIOLATIONS  9950 non-null   object\n",
      " 17  DUIS                 9950 non-null   object\n",
      " 18  PAST_ACCIDENTS       9950 non-null   object\n",
      " 19  OUTCOME              9950 non-null   object\n",
      "dtypes: int64(2), object(18)\n",
      "memory usage: 1.5+ MB\n"
     ]
    }
   ],
   "source": [
    "data.info()"
   ]
  },
  {
   "cell_type": "code",
   "execution_count": 5,
   "id": "17b5551c-270d-40fc-8558-47ba43d6b114",
   "metadata": {},
   "outputs": [
    {
     "data": {
      "text/html": [
       "<div>\n",
       "<style scoped>\n",
       "    .dataframe tbody tr th:only-of-type {\n",
       "        vertical-align: middle;\n",
       "    }\n",
       "\n",
       "    .dataframe tbody tr th {\n",
       "        vertical-align: top;\n",
       "    }\n",
       "\n",
       "    .dataframe thead th {\n",
       "        text-align: right;\n",
       "    }\n",
       "</style>\n",
       "<table border=\"1\" class=\"dataframe\">\n",
       "  <thead>\n",
       "    <tr style=\"text-align: right;\">\n",
       "      <th></th>\n",
       "      <th>Unnamed: 0</th>\n",
       "      <th>ID</th>\n",
       "      <th>AGE</th>\n",
       "      <th>GENDER</th>\n",
       "      <th>RACE</th>\n",
       "      <th>DRIVING_EXPERIENCE</th>\n",
       "      <th>EDUCATION</th>\n",
       "      <th>INCOME</th>\n",
       "      <th>CREDIT_SCORE</th>\n",
       "      <th>VEHICLE_OWNERSHIP</th>\n",
       "      <th>VEHICLE_YEAR</th>\n",
       "      <th>MARRIED</th>\n",
       "      <th>CHILDREN</th>\n",
       "      <th>POSTAL_CODE</th>\n",
       "      <th>ANNUAL_MILEAGE</th>\n",
       "      <th>VEHICLE_TYPE</th>\n",
       "      <th>SPEEDING_VIOLATIONS</th>\n",
       "      <th>DUIS</th>\n",
       "      <th>PAST_ACCIDENTS</th>\n",
       "      <th>OUTCOME</th>\n",
       "    </tr>\n",
       "  </thead>\n",
       "  <tbody>\n",
       "    <tr>\n",
       "      <th>0</th>\n",
       "      <td>0</td>\n",
       "      <td>569520</td>\n",
       "      <td>65+</td>\n",
       "      <td>female</td>\n",
       "      <td>majority</td>\n",
       "      <td>0-9y</td>\n",
       "      <td>high school</td>\n",
       "      <td>upper class</td>\n",
       "      <td>0.629027313918201</td>\n",
       "      <td>1.0</td>\n",
       "      <td>after 2015</td>\n",
       "      <td>0.0</td>\n",
       "      <td>1.0</td>\n",
       "      <td>10238</td>\n",
       "      <td>12000.0</td>\n",
       "      <td>sedan</td>\n",
       "      <td>0</td>\n",
       "      <td>0</td>\n",
       "      <td>0</td>\n",
       "      <td>0.0</td>\n",
       "    </tr>\n",
       "    <tr>\n",
       "      <th>1</th>\n",
       "      <td>1</td>\n",
       "      <td>750365</td>\n",
       "      <td>16-25</td>\n",
       "      <td>male</td>\n",
       "      <td>majority</td>\n",
       "      <td>0-9y</td>\n",
       "      <td>none</td>\n",
       "      <td>poverty</td>\n",
       "      <td>0.3577571170184627</td>\n",
       "      <td>0.0</td>\n",
       "      <td>before 2015</td>\n",
       "      <td>0.0</td>\n",
       "      <td>0.0</td>\n",
       "      <td>10238</td>\n",
       "      <td>16000.0</td>\n",
       "      <td>sedan</td>\n",
       "      <td>0</td>\n",
       "      <td>0</td>\n",
       "      <td>0</td>\n",
       "      <td>1.0</td>\n",
       "    </tr>\n",
       "    <tr>\n",
       "      <th>2</th>\n",
       "      <td>2</td>\n",
       "      <td>199901</td>\n",
       "      <td>16-25</td>\n",
       "      <td>female</td>\n",
       "      <td>majority</td>\n",
       "      <td>0-9y</td>\n",
       "      <td>high school</td>\n",
       "      <td>working class</td>\n",
       "      <td>0.4931457852181982</td>\n",
       "      <td>1.0</td>\n",
       "      <td>before 2015</td>\n",
       "      <td>0.0</td>\n",
       "      <td>0.0</td>\n",
       "      <td>10238</td>\n",
       "      <td>11000.0</td>\n",
       "      <td>sedan</td>\n",
       "      <td>0</td>\n",
       "      <td>0</td>\n",
       "      <td>0</td>\n",
       "      <td>0.0</td>\n",
       "    </tr>\n",
       "    <tr>\n",
       "      <th>3</th>\n",
       "      <td>3</td>\n",
       "      <td>478866</td>\n",
       "      <td>16-25</td>\n",
       "      <td>male</td>\n",
       "      <td>majority</td>\n",
       "      <td>0-9y</td>\n",
       "      <td>university</td>\n",
       "      <td>working class</td>\n",
       "      <td>0.2060128507324556</td>\n",
       "      <td>1.0</td>\n",
       "      <td>before 2015</td>\n",
       "      <td>0.0</td>\n",
       "      <td>none</td>\n",
       "      <td>32765</td>\n",
       "      <td>11000.0</td>\n",
       "      <td>sedan</td>\n",
       "      <td>0</td>\n",
       "      <td>0</td>\n",
       "      <td>0</td>\n",
       "      <td>0.0</td>\n",
       "    </tr>\n",
       "    <tr>\n",
       "      <th>4</th>\n",
       "      <td>4</td>\n",
       "      <td>731664</td>\n",
       "      <td>26-39</td>\n",
       "      <td>male</td>\n",
       "      <td>majority</td>\n",
       "      <td>10-19y</td>\n",
       "      <td>none</td>\n",
       "      <td>working class</td>\n",
       "      <td>0.3883658881572184</td>\n",
       "      <td>1.0</td>\n",
       "      <td>before 2015</td>\n",
       "      <td>0.0</td>\n",
       "      <td>0.0</td>\n",
       "      <td>32765.0</td>\n",
       "      <td>12000.0</td>\n",
       "      <td>sedan</td>\n",
       "      <td>2</td>\n",
       "      <td>0</td>\n",
       "      <td>1</td>\n",
       "      <td>1.0</td>\n",
       "    </tr>\n",
       "  </tbody>\n",
       "</table>\n",
       "</div>"
      ],
      "text/plain": [
       "   Unnamed: 0      ID    AGE  GENDER      RACE DRIVING_EXPERIENCE  \\\n",
       "0           0  569520    65+  female  majority               0-9y   \n",
       "1           1  750365  16-25    male  majority               0-9y   \n",
       "2           2  199901  16-25  female  majority               0-9y   \n",
       "3           3  478866  16-25    male  majority               0-9y   \n",
       "4           4  731664  26-39    male  majority             10-19y   \n",
       "\n",
       "     EDUCATION         INCOME        CREDIT_SCORE VEHICLE_OWNERSHIP  \\\n",
       "0  high school    upper class   0.629027313918201               1.0   \n",
       "1         none        poverty  0.3577571170184627               0.0   \n",
       "2  high school  working class  0.4931457852181982               1.0   \n",
       "3   university  working class  0.2060128507324556               1.0   \n",
       "4         none  working class  0.3883658881572184               1.0   \n",
       "\n",
       "  VEHICLE_YEAR MARRIED CHILDREN POSTAL_CODE ANNUAL_MILEAGE VEHICLE_TYPE  \\\n",
       "0   after 2015     0.0      1.0       10238        12000.0        sedan   \n",
       "1  before 2015     0.0      0.0       10238        16000.0        sedan   \n",
       "2  before 2015     0.0      0.0       10238        11000.0        sedan   \n",
       "3  before 2015     0.0     none       32765        11000.0        sedan   \n",
       "4  before 2015     0.0      0.0     32765.0        12000.0        sedan   \n",
       "\n",
       "  SPEEDING_VIOLATIONS DUIS PAST_ACCIDENTS OUTCOME  \n",
       "0                   0    0              0     0.0  \n",
       "1                   0    0              0     1.0  \n",
       "2                   0    0              0     0.0  \n",
       "3                   0    0              0     0.0  \n",
       "4                   2    0              1     1.0  "
      ]
     },
     "execution_count": 5,
     "metadata": {},
     "output_type": "execute_result"
    }
   ],
   "source": [
    "data.head()"
   ]
  },
  {
   "cell_type": "code",
   "execution_count": 6,
   "id": "4ba7d68a-41c1-4318-8d27-f39357ba69bf",
   "metadata": {
    "scrolled": true
   },
   "outputs": [
    {
     "data": {
      "text/html": [
       "<div>\n",
       "<style scoped>\n",
       "    .dataframe tbody tr th:only-of-type {\n",
       "        vertical-align: middle;\n",
       "    }\n",
       "\n",
       "    .dataframe tbody tr th {\n",
       "        vertical-align: top;\n",
       "    }\n",
       "\n",
       "    .dataframe thead th {\n",
       "        text-align: right;\n",
       "    }\n",
       "</style>\n",
       "<table border=\"1\" class=\"dataframe\">\n",
       "  <thead>\n",
       "    <tr style=\"text-align: right;\">\n",
       "      <th></th>\n",
       "      <th>Unnamed: 0</th>\n",
       "      <th>ID</th>\n",
       "      <th>AGE</th>\n",
       "      <th>GENDER</th>\n",
       "      <th>RACE</th>\n",
       "      <th>DRIVING_EXPERIENCE</th>\n",
       "      <th>EDUCATION</th>\n",
       "      <th>INCOME</th>\n",
       "      <th>CREDIT_SCORE</th>\n",
       "      <th>VEHICLE_OWNERSHIP</th>\n",
       "      <th>VEHICLE_YEAR</th>\n",
       "      <th>MARRIED</th>\n",
       "      <th>CHILDREN</th>\n",
       "      <th>POSTAL_CODE</th>\n",
       "      <th>ANNUAL_MILEAGE</th>\n",
       "      <th>VEHICLE_TYPE</th>\n",
       "      <th>SPEEDING_VIOLATIONS</th>\n",
       "      <th>DUIS</th>\n",
       "      <th>PAST_ACCIDENTS</th>\n",
       "      <th>OUTCOME</th>\n",
       "    </tr>\n",
       "  </thead>\n",
       "  <tbody>\n",
       "    <tr>\n",
       "      <th>377</th>\n",
       "      <td>377</td>\n",
       "      <td>22475</td>\n",
       "      <td>NaN</td>\n",
       "      <td>female</td>\n",
       "      <td>majority</td>\n",
       "      <td>0-9y</td>\n",
       "      <td>high school</td>\n",
       "      <td>middle class</td>\n",
       "      <td>0.5905674346205279</td>\n",
       "      <td>1.0</td>\n",
       "      <td>before 2015</td>\n",
       "      <td>1.0</td>\n",
       "      <td>0.0</td>\n",
       "      <td>10238</td>\n",
       "      <td>11000.0</td>\n",
       "      <td>sedan</td>\n",
       "      <td>0</td>\n",
       "      <td>0</td>\n",
       "      <td>0</td>\n",
       "      <td>0.0</td>\n",
       "    </tr>\n",
       "    <tr>\n",
       "      <th>511</th>\n",
       "      <td>511</td>\n",
       "      <td>55182</td>\n",
       "      <td>NaN</td>\n",
       "      <td>female</td>\n",
       "      <td>majority</td>\n",
       "      <td>10-19y</td>\n",
       "      <td>high school</td>\n",
       "      <td>working class</td>\n",
       "      <td>0.5178262960914578</td>\n",
       "      <td>1.0</td>\n",
       "      <td>after 2015</td>\n",
       "      <td>0.0</td>\n",
       "      <td>0.0</td>\n",
       "      <td>32765</td>\n",
       "      <td>10000.0</td>\n",
       "      <td>sedan</td>\n",
       "      <td>2</td>\n",
       "      <td>0</td>\n",
       "      <td>0</td>\n",
       "      <td>0.0</td>\n",
       "    </tr>\n",
       "    <tr>\n",
       "      <th>571</th>\n",
       "      <td>571</td>\n",
       "      <td>626735</td>\n",
       "      <td>NaN</td>\n",
       "      <td>female</td>\n",
       "      <td>majority</td>\n",
       "      <td>0-9y</td>\n",
       "      <td>university</td>\n",
       "      <td>working class</td>\n",
       "      <td>NaN</td>\n",
       "      <td>1.0</td>\n",
       "      <td>none</td>\n",
       "      <td>0.0</td>\n",
       "      <td>0.0</td>\n",
       "      <td>32765</td>\n",
       "      <td>13000.0</td>\n",
       "      <td>sedan</td>\n",
       "      <td>0</td>\n",
       "      <td>0</td>\n",
       "      <td>0</td>\n",
       "      <td>0.0</td>\n",
       "    </tr>\n",
       "    <tr>\n",
       "      <th>666</th>\n",
       "      <td>666</td>\n",
       "      <td>420204</td>\n",
       "      <td>NaN</td>\n",
       "      <td>male</td>\n",
       "      <td>majority</td>\n",
       "      <td>20-29y</td>\n",
       "      <td>university</td>\n",
       "      <td>upper class</td>\n",
       "      <td>0.7459522237963077</td>\n",
       "      <td>1.0</td>\n",
       "      <td>before 2015</td>\n",
       "      <td>1.0</td>\n",
       "      <td>1.0</td>\n",
       "      <td>10238</td>\n",
       "      <td>9000.0</td>\n",
       "      <td>sedan</td>\n",
       "      <td>2</td>\n",
       "      <td>0</td>\n",
       "      <td>3</td>\n",
       "      <td>0.0</td>\n",
       "    </tr>\n",
       "    <tr>\n",
       "      <th>769</th>\n",
       "      <td>769</td>\n",
       "      <td>45019</td>\n",
       "      <td>NaN</td>\n",
       "      <td>female</td>\n",
       "      <td>majority</td>\n",
       "      <td>0-9y</td>\n",
       "      <td>university</td>\n",
       "      <td>middle class</td>\n",
       "      <td>0.6714519317340388</td>\n",
       "      <td>0.0</td>\n",
       "      <td>before 2015</td>\n",
       "      <td>0.0</td>\n",
       "      <td>1.0</td>\n",
       "      <td>92101</td>\n",
       "      <td>14000.0</td>\n",
       "      <td>sedan</td>\n",
       "      <td>0</td>\n",
       "      <td>0</td>\n",
       "      <td>0</td>\n",
       "      <td>0.0</td>\n",
       "    </tr>\n",
       "    <tr>\n",
       "      <th>1077</th>\n",
       "      <td>1077</td>\n",
       "      <td>50734</td>\n",
       "      <td>NaN</td>\n",
       "      <td>female</td>\n",
       "      <td>majority</td>\n",
       "      <td>0-9y</td>\n",
       "      <td>none</td>\n",
       "      <td>poverty</td>\n",
       "      <td>0.3307771935047669</td>\n",
       "      <td>0.0</td>\n",
       "      <td>NaN</td>\n",
       "      <td>1.0</td>\n",
       "      <td>1.0</td>\n",
       "      <td>10238</td>\n",
       "      <td>13000.0</td>\n",
       "      <td>sedan</td>\n",
       "      <td>0</td>\n",
       "      <td>0</td>\n",
       "      <td>0</td>\n",
       "      <td>1.0</td>\n",
       "    </tr>\n",
       "    <tr>\n",
       "      <th>1145</th>\n",
       "      <td>1145</td>\n",
       "      <td>67899</td>\n",
       "      <td>NaN</td>\n",
       "      <td>male</td>\n",
       "      <td>majority</td>\n",
       "      <td>30y+</td>\n",
       "      <td>high school</td>\n",
       "      <td>upper class</td>\n",
       "      <td>NaN</td>\n",
       "      <td>1.0</td>\n",
       "      <td>after 2015</td>\n",
       "      <td>1.0</td>\n",
       "      <td>1.0</td>\n",
       "      <td>10238</td>\n",
       "      <td>7000.0</td>\n",
       "      <td>sedan</td>\n",
       "      <td>5</td>\n",
       "      <td>NaN</td>\n",
       "      <td>11</td>\n",
       "      <td>0.0</td>\n",
       "    </tr>\n",
       "    <tr>\n",
       "      <th>1298</th>\n",
       "      <td>1298</td>\n",
       "      <td>183837</td>\n",
       "      <td>NaN</td>\n",
       "      <td>female</td>\n",
       "      <td>majority</td>\n",
       "      <td>20-29y</td>\n",
       "      <td>university</td>\n",
       "      <td>upper class</td>\n",
       "      <td>0.5172578396228402</td>\n",
       "      <td>1.0</td>\n",
       "      <td>before 2015</td>\n",
       "      <td>1.0</td>\n",
       "      <td>1.0</td>\n",
       "      <td>10238</td>\n",
       "      <td>13000.0</td>\n",
       "      <td>sedan</td>\n",
       "      <td>1</td>\n",
       "      <td>0</td>\n",
       "      <td>0</td>\n",
       "      <td>0.0</td>\n",
       "    </tr>\n",
       "    <tr>\n",
       "      <th>1440</th>\n",
       "      <td>1440</td>\n",
       "      <td>976721</td>\n",
       "      <td>NaN</td>\n",
       "      <td>female</td>\n",
       "      <td>majority</td>\n",
       "      <td>20-29y</td>\n",
       "      <td>university</td>\n",
       "      <td>upper class</td>\n",
       "      <td>0.6518121915052597</td>\n",
       "      <td>1.0</td>\n",
       "      <td>after 2015</td>\n",
       "      <td>1.0</td>\n",
       "      <td>1.0</td>\n",
       "      <td>10238</td>\n",
       "      <td>7000.0</td>\n",
       "      <td>sedan</td>\n",
       "      <td>2</td>\n",
       "      <td>0</td>\n",
       "      <td>4</td>\n",
       "      <td>0.0</td>\n",
       "    </tr>\n",
       "    <tr>\n",
       "      <th>1784</th>\n",
       "      <td>1784</td>\n",
       "      <td>513565</td>\n",
       "      <td>NaN</td>\n",
       "      <td>female</td>\n",
       "      <td>majority</td>\n",
       "      <td>0-9y</td>\n",
       "      <td>high school</td>\n",
       "      <td>working class</td>\n",
       "      <td>0.6578040520558444</td>\n",
       "      <td>1.0</td>\n",
       "      <td>before 2015</td>\n",
       "      <td>0.0</td>\n",
       "      <td>0.0</td>\n",
       "      <td>32765</td>\n",
       "      <td>14000.0</td>\n",
       "      <td>sedan</td>\n",
       "      <td>0</td>\n",
       "      <td>0</td>\n",
       "      <td>0</td>\n",
       "      <td>1.0</td>\n",
       "    </tr>\n",
       "    <tr>\n",
       "      <th>1875</th>\n",
       "      <td>1875</td>\n",
       "      <td>110283</td>\n",
       "      <td>NaN</td>\n",
       "      <td>female</td>\n",
       "      <td>majority</td>\n",
       "      <td>0-9y</td>\n",
       "      <td>university</td>\n",
       "      <td>upper class</td>\n",
       "      <td>0.5635661989200738</td>\n",
       "      <td>1.0</td>\n",
       "      <td>after 2015</td>\n",
       "      <td>1.0</td>\n",
       "      <td>1.0</td>\n",
       "      <td>10238</td>\n",
       "      <td>14000.0</td>\n",
       "      <td>sedan</td>\n",
       "      <td>0</td>\n",
       "      <td>0</td>\n",
       "      <td>0</td>\n",
       "      <td>0.0</td>\n",
       "    </tr>\n",
       "    <tr>\n",
       "      <th>2288</th>\n",
       "      <td>2288</td>\n",
       "      <td>847188</td>\n",
       "      <td>NaN</td>\n",
       "      <td>female</td>\n",
       "      <td>majority</td>\n",
       "      <td>20-29y</td>\n",
       "      <td>university</td>\n",
       "      <td>middle class</td>\n",
       "      <td>0.4590963601154736</td>\n",
       "      <td>1.0</td>\n",
       "      <td>before 2015</td>\n",
       "      <td>1.0</td>\n",
       "      <td>1.0</td>\n",
       "      <td>10238</td>\n",
       "      <td>10000.0</td>\n",
       "      <td>sedan</td>\n",
       "      <td>4</td>\n",
       "      <td>1</td>\n",
       "      <td>0</td>\n",
       "      <td>0.0</td>\n",
       "    </tr>\n",
       "    <tr>\n",
       "      <th>2655</th>\n",
       "      <td>2655</td>\n",
       "      <td>883171</td>\n",
       "      <td>NaN</td>\n",
       "      <td>female</td>\n",
       "      <td>minority</td>\n",
       "      <td>0-9y</td>\n",
       "      <td>high school</td>\n",
       "      <td>poverty</td>\n",
       "      <td>0.4351756628940996</td>\n",
       "      <td>1.0</td>\n",
       "      <td>before 2015</td>\n",
       "      <td>NaN</td>\n",
       "      <td>0.0</td>\n",
       "      <td>10238</td>\n",
       "      <td>15000.0</td>\n",
       "      <td>sports car</td>\n",
       "      <td>0</td>\n",
       "      <td>0</td>\n",
       "      <td>0</td>\n",
       "      <td>1.0</td>\n",
       "    </tr>\n",
       "    <tr>\n",
       "      <th>2777</th>\n",
       "      <td>2777</td>\n",
       "      <td>384342</td>\n",
       "      <td>NaN</td>\n",
       "      <td>female</td>\n",
       "      <td>majority</td>\n",
       "      <td>20-29y</td>\n",
       "      <td>university</td>\n",
       "      <td>upper class</td>\n",
       "      <td>0.512923620015934</td>\n",
       "      <td>1.0</td>\n",
       "      <td>before 2015</td>\n",
       "      <td>1.0</td>\n",
       "      <td>1.0</td>\n",
       "      <td>32765</td>\n",
       "      <td>6000.0</td>\n",
       "      <td>sedan</td>\n",
       "      <td>6</td>\n",
       "      <td>0</td>\n",
       "      <td>0</td>\n",
       "      <td>0.0</td>\n",
       "    </tr>\n",
       "    <tr>\n",
       "      <th>2829</th>\n",
       "      <td>2829</td>\n",
       "      <td>872748</td>\n",
       "      <td>NaN</td>\n",
       "      <td>male</td>\n",
       "      <td>majority</td>\n",
       "      <td>0-9y</td>\n",
       "      <td>university</td>\n",
       "      <td>upper class</td>\n",
       "      <td>0.5085456984605072</td>\n",
       "      <td>1.0</td>\n",
       "      <td>after 2015</td>\n",
       "      <td>1.0</td>\n",
       "      <td>1.0</td>\n",
       "      <td>10238</td>\n",
       "      <td>10000.0</td>\n",
       "      <td>sedan</td>\n",
       "      <td>0</td>\n",
       "      <td>0</td>\n",
       "      <td>0</td>\n",
       "      <td>1.0</td>\n",
       "    </tr>\n",
       "    <tr>\n",
       "      <th>3045</th>\n",
       "      <td>3045</td>\n",
       "      <td>172866</td>\n",
       "      <td>NaN</td>\n",
       "      <td>female</td>\n",
       "      <td>majority</td>\n",
       "      <td>0-9y</td>\n",
       "      <td>none</td>\n",
       "      <td>working class</td>\n",
       "      <td>0.5137348627380244</td>\n",
       "      <td>0.0</td>\n",
       "      <td>before 2015</td>\n",
       "      <td>0.0</td>\n",
       "      <td>0.0</td>\n",
       "      <td>10238</td>\n",
       "      <td>11000.0</td>\n",
       "      <td>sedan</td>\n",
       "      <td>0</td>\n",
       "      <td>0</td>\n",
       "      <td>0</td>\n",
       "      <td>1.0</td>\n",
       "    </tr>\n",
       "    <tr>\n",
       "      <th>3052</th>\n",
       "      <td>3052</td>\n",
       "      <td>4747</td>\n",
       "      <td>NaN</td>\n",
       "      <td>female</td>\n",
       "      <td>majority</td>\n",
       "      <td>20-29y</td>\n",
       "      <td>none</td>\n",
       "      <td>middle class</td>\n",
       "      <td>0.6534312027273705</td>\n",
       "      <td>1.0</td>\n",
       "      <td>before 2015</td>\n",
       "      <td>0.0</td>\n",
       "      <td>1.0</td>\n",
       "      <td>10238</td>\n",
       "      <td>10000.0</td>\n",
       "      <td>sedan</td>\n",
       "      <td>0</td>\n",
       "      <td>0</td>\n",
       "      <td>0</td>\n",
       "      <td>0.0</td>\n",
       "    </tr>\n",
       "    <tr>\n",
       "      <th>3248</th>\n",
       "      <td>3248</td>\n",
       "      <td>314564</td>\n",
       "      <td>NaN</td>\n",
       "      <td>female</td>\n",
       "      <td>majority</td>\n",
       "      <td>0-9y</td>\n",
       "      <td>none</td>\n",
       "      <td>poverty</td>\n",
       "      <td>0.3975139345685761</td>\n",
       "      <td>0.0</td>\n",
       "      <td>before 2015</td>\n",
       "      <td>1.0</td>\n",
       "      <td>0.0</td>\n",
       "      <td>10238</td>\n",
       "      <td>13000.0</td>\n",
       "      <td>sedan</td>\n",
       "      <td>0</td>\n",
       "      <td>0</td>\n",
       "      <td>0</td>\n",
       "      <td>1.0</td>\n",
       "    </tr>\n",
       "    <tr>\n",
       "      <th>3261</th>\n",
       "      <td>3261</td>\n",
       "      <td>209049</td>\n",
       "      <td>NaN</td>\n",
       "      <td>male</td>\n",
       "      <td>majority</td>\n",
       "      <td>10-19y</td>\n",
       "      <td>university</td>\n",
       "      <td>upper class</td>\n",
       "      <td>0.6352679101945021</td>\n",
       "      <td>1.0</td>\n",
       "      <td>before 2015</td>\n",
       "      <td>1.0</td>\n",
       "      <td>1.0</td>\n",
       "      <td>32765</td>\n",
       "      <td>NaN</td>\n",
       "      <td>sedan</td>\n",
       "      <td>3</td>\n",
       "      <td>0</td>\n",
       "      <td>1</td>\n",
       "      <td>none</td>\n",
       "    </tr>\n",
       "    <tr>\n",
       "      <th>3343</th>\n",
       "      <td>3343</td>\n",
       "      <td>57078</td>\n",
       "      <td>NaN</td>\n",
       "      <td>male</td>\n",
       "      <td>majority</td>\n",
       "      <td>20-29y</td>\n",
       "      <td>university</td>\n",
       "      <td>upper class</td>\n",
       "      <td>0.5270405908938821</td>\n",
       "      <td>1.0</td>\n",
       "      <td>before 2015</td>\n",
       "      <td>1.0</td>\n",
       "      <td>1.0</td>\n",
       "      <td>10238</td>\n",
       "      <td>9000.0</td>\n",
       "      <td>sedan</td>\n",
       "      <td>5</td>\n",
       "      <td>0</td>\n",
       "      <td>0</td>\n",
       "      <td>0.0</td>\n",
       "    </tr>\n",
       "    <tr>\n",
       "      <th>3376</th>\n",
       "      <td>3376</td>\n",
       "      <td>58611</td>\n",
       "      <td>NaN</td>\n",
       "      <td>female</td>\n",
       "      <td>majority</td>\n",
       "      <td>0-9y</td>\n",
       "      <td>high school</td>\n",
       "      <td>poverty</td>\n",
       "      <td>0.3652981607970365</td>\n",
       "      <td>1.0</td>\n",
       "      <td>before 2015</td>\n",
       "      <td>0.0</td>\n",
       "      <td>0.0</td>\n",
       "      <td>10238</td>\n",
       "      <td>14000.0</td>\n",
       "      <td>sports car</td>\n",
       "      <td>0</td>\n",
       "      <td>0</td>\n",
       "      <td>0</td>\n",
       "      <td>0.0</td>\n",
       "    </tr>\n",
       "    <tr>\n",
       "      <th>3626</th>\n",
       "      <td>3626</td>\n",
       "      <td>141111</td>\n",
       "      <td>NaN</td>\n",
       "      <td>male</td>\n",
       "      <td>majority</td>\n",
       "      <td>0-9y</td>\n",
       "      <td>high school</td>\n",
       "      <td>middle class</td>\n",
       "      <td>0.5059066956176601</td>\n",
       "      <td>0.0</td>\n",
       "      <td>before 2015</td>\n",
       "      <td>1.0</td>\n",
       "      <td>1.0</td>\n",
       "      <td>10238</td>\n",
       "      <td>4000.0</td>\n",
       "      <td>sedan</td>\n",
       "      <td>0</td>\n",
       "      <td>0</td>\n",
       "      <td>0</td>\n",
       "      <td>1.0</td>\n",
       "    </tr>\n",
       "    <tr>\n",
       "      <th>3640</th>\n",
       "      <td>3640</td>\n",
       "      <td>634309</td>\n",
       "      <td>NaN</td>\n",
       "      <td>male</td>\n",
       "      <td>majority</td>\n",
       "      <td>10-19y</td>\n",
       "      <td>none</td>\n",
       "      <td>working class</td>\n",
       "      <td>0.2072769053354858</td>\n",
       "      <td>1.0</td>\n",
       "      <td>before 2015</td>\n",
       "      <td>1.0</td>\n",
       "      <td>1.0</td>\n",
       "      <td>10238</td>\n",
       "      <td>NaN</td>\n",
       "      <td>sedan</td>\n",
       "      <td>4</td>\n",
       "      <td>0</td>\n",
       "      <td>4</td>\n",
       "      <td>1.0</td>\n",
       "    </tr>\n",
       "    <tr>\n",
       "      <th>4086</th>\n",
       "      <td>4086</td>\n",
       "      <td>352133</td>\n",
       "      <td>NaN</td>\n",
       "      <td>male</td>\n",
       "      <td>majority</td>\n",
       "      <td>30y+</td>\n",
       "      <td>university</td>\n",
       "      <td>upper class</td>\n",
       "      <td>0.646019745527352</td>\n",
       "      <td>0.0</td>\n",
       "      <td>after 2015</td>\n",
       "      <td>1.0</td>\n",
       "      <td>1.0</td>\n",
       "      <td>10238</td>\n",
       "      <td>10000.0</td>\n",
       "      <td>sedan</td>\n",
       "      <td>6</td>\n",
       "      <td>1</td>\n",
       "      <td>9</td>\n",
       "      <td>0.0</td>\n",
       "    </tr>\n",
       "    <tr>\n",
       "      <th>4399</th>\n",
       "      <td>4399</td>\n",
       "      <td>135855</td>\n",
       "      <td>NaN</td>\n",
       "      <td>male</td>\n",
       "      <td>majority</td>\n",
       "      <td>0-9y</td>\n",
       "      <td>university</td>\n",
       "      <td>upper class</td>\n",
       "      <td>NaN</td>\n",
       "      <td>1.0</td>\n",
       "      <td>before 2015</td>\n",
       "      <td>0.0</td>\n",
       "      <td>1.0</td>\n",
       "      <td>32765</td>\n",
       "      <td>12000.0</td>\n",
       "      <td>sedan</td>\n",
       "      <td>0</td>\n",
       "      <td>0</td>\n",
       "      <td>0</td>\n",
       "      <td>1.0</td>\n",
       "    </tr>\n",
       "    <tr>\n",
       "      <th>4510</th>\n",
       "      <td>4510</td>\n",
       "      <td>915389</td>\n",
       "      <td>NaN</td>\n",
       "      <td>female</td>\n",
       "      <td>majority</td>\n",
       "      <td>10-19y</td>\n",
       "      <td>none</td>\n",
       "      <td>poverty</td>\n",
       "      <td>0.4133590098652053</td>\n",
       "      <td>0.0</td>\n",
       "      <td>before 2015</td>\n",
       "      <td>1.0</td>\n",
       "      <td>1.0</td>\n",
       "      <td>10238</td>\n",
       "      <td>13000.0</td>\n",
       "      <td>sedan</td>\n",
       "      <td>0</td>\n",
       "      <td>0</td>\n",
       "      <td>0</td>\n",
       "      <td>0.0</td>\n",
       "    </tr>\n",
       "    <tr>\n",
       "      <th>4556</th>\n",
       "      <td>4556</td>\n",
       "      <td>292609</td>\n",
       "      <td>NaN</td>\n",
       "      <td>female</td>\n",
       "      <td>majority</td>\n",
       "      <td>10-19y</td>\n",
       "      <td>university</td>\n",
       "      <td>upper class</td>\n",
       "      <td>0.6603027887946995</td>\n",
       "      <td>1.0</td>\n",
       "      <td>after 2015</td>\n",
       "      <td>1.0</td>\n",
       "      <td>1.0</td>\n",
       "      <td>10238</td>\n",
       "      <td>14000.0</td>\n",
       "      <td>sedan</td>\n",
       "      <td>0</td>\n",
       "      <td>0</td>\n",
       "      <td>0</td>\n",
       "      <td>0.0</td>\n",
       "    </tr>\n",
       "    <tr>\n",
       "      <th>4565</th>\n",
       "      <td>4565</td>\n",
       "      <td>403549</td>\n",
       "      <td>NaN</td>\n",
       "      <td>female</td>\n",
       "      <td>minority</td>\n",
       "      <td>10-19y</td>\n",
       "      <td>university</td>\n",
       "      <td>middle class</td>\n",
       "      <td>0.7061275331201278</td>\n",
       "      <td>1.0</td>\n",
       "      <td>before 2015</td>\n",
       "      <td>0.0</td>\n",
       "      <td>0.0</td>\n",
       "      <td>10238</td>\n",
       "      <td>15000.0</td>\n",
       "      <td>sedan</td>\n",
       "      <td>1</td>\n",
       "      <td>1</td>\n",
       "      <td>0</td>\n",
       "      <td>0.0</td>\n",
       "    </tr>\n",
       "    <tr>\n",
       "      <th>5472</th>\n",
       "      <td>5472</td>\n",
       "      <td>509738</td>\n",
       "      <td>NaN</td>\n",
       "      <td>male</td>\n",
       "      <td>majority</td>\n",
       "      <td>0-9y</td>\n",
       "      <td>university</td>\n",
       "      <td>upper class</td>\n",
       "      <td>0.4562250485636365</td>\n",
       "      <td>1.0</td>\n",
       "      <td>after 2015</td>\n",
       "      <td>0.0</td>\n",
       "      <td>1.0</td>\n",
       "      <td>10238</td>\n",
       "      <td>13000.0</td>\n",
       "      <td>sedan</td>\n",
       "      <td>0</td>\n",
       "      <td>0</td>\n",
       "      <td>0</td>\n",
       "      <td>0.0</td>\n",
       "    </tr>\n",
       "    <tr>\n",
       "      <th>5640</th>\n",
       "      <td>5640</td>\n",
       "      <td>328633</td>\n",
       "      <td>NaN</td>\n",
       "      <td>male</td>\n",
       "      <td>majority</td>\n",
       "      <td>0-9y</td>\n",
       "      <td>university</td>\n",
       "      <td>middle class</td>\n",
       "      <td>0.41480763135074</td>\n",
       "      <td>0.0</td>\n",
       "      <td>before 2015</td>\n",
       "      <td>0.0</td>\n",
       "      <td>0.0</td>\n",
       "      <td>10238</td>\n",
       "      <td>13000.0</td>\n",
       "      <td>sedan</td>\n",
       "      <td>0</td>\n",
       "      <td>0</td>\n",
       "      <td>0</td>\n",
       "      <td>1.0</td>\n",
       "    </tr>\n",
       "    <tr>\n",
       "      <th>5649</th>\n",
       "      <td>5649</td>\n",
       "      <td>703183</td>\n",
       "      <td>NaN</td>\n",
       "      <td>female</td>\n",
       "      <td>majority</td>\n",
       "      <td>20-29y</td>\n",
       "      <td>high school</td>\n",
       "      <td>upper class</td>\n",
       "      <td>0.6528006340664879</td>\n",
       "      <td>1.0</td>\n",
       "      <td>after 2015</td>\n",
       "      <td>1.0</td>\n",
       "      <td>1.0</td>\n",
       "      <td>32765</td>\n",
       "      <td>NaN</td>\n",
       "      <td>sedan</td>\n",
       "      <td>3</td>\n",
       "      <td>1</td>\n",
       "      <td>0</td>\n",
       "      <td>0.0</td>\n",
       "    </tr>\n",
       "    <tr>\n",
       "      <th>5684</th>\n",
       "      <td>5684</td>\n",
       "      <td>346384</td>\n",
       "      <td>NaN</td>\n",
       "      <td>female</td>\n",
       "      <td>majority</td>\n",
       "      <td>20-29y</td>\n",
       "      <td>university</td>\n",
       "      <td>upper class</td>\n",
       "      <td>0.5307622793835239</td>\n",
       "      <td>1.0</td>\n",
       "      <td>before 2015</td>\n",
       "      <td>1.0</td>\n",
       "      <td>1.0</td>\n",
       "      <td>32765</td>\n",
       "      <td>7000.0</td>\n",
       "      <td>sedan</td>\n",
       "      <td>4</td>\n",
       "      <td>2</td>\n",
       "      <td>1</td>\n",
       "      <td>0.0</td>\n",
       "    </tr>\n",
       "    <tr>\n",
       "      <th>5880</th>\n",
       "      <td>5880</td>\n",
       "      <td>862136</td>\n",
       "      <td>NaN</td>\n",
       "      <td>male</td>\n",
       "      <td>majority</td>\n",
       "      <td>10-19y</td>\n",
       "      <td>university</td>\n",
       "      <td>working class</td>\n",
       "      <td>0.2260193423943462</td>\n",
       "      <td>0.0</td>\n",
       "      <td>NaN</td>\n",
       "      <td>1.0</td>\n",
       "      <td>0.0</td>\n",
       "      <td>92101</td>\n",
       "      <td>NaN</td>\n",
       "      <td>sedan</td>\n",
       "      <td>1</td>\n",
       "      <td>0</td>\n",
       "      <td>2</td>\n",
       "      <td>1.0</td>\n",
       "    </tr>\n",
       "    <tr>\n",
       "      <th>6006</th>\n",
       "      <td>6006</td>\n",
       "      <td>839283</td>\n",
       "      <td>NaN</td>\n",
       "      <td>male</td>\n",
       "      <td>majority</td>\n",
       "      <td>20-29y</td>\n",
       "      <td>university</td>\n",
       "      <td>upper class</td>\n",
       "      <td>0.6032711170547711</td>\n",
       "      <td>1.0</td>\n",
       "      <td>after 2015</td>\n",
       "      <td>0.0</td>\n",
       "      <td>1.0</td>\n",
       "      <td>32765</td>\n",
       "      <td>11000.0</td>\n",
       "      <td>sedan</td>\n",
       "      <td>8</td>\n",
       "      <td>3</td>\n",
       "      <td>0</td>\n",
       "      <td>0.0</td>\n",
       "    </tr>\n",
       "    <tr>\n",
       "      <th>6015</th>\n",
       "      <td>6015</td>\n",
       "      <td>624831</td>\n",
       "      <td>NaN</td>\n",
       "      <td>male</td>\n",
       "      <td>minority</td>\n",
       "      <td>20-29y</td>\n",
       "      <td>high school</td>\n",
       "      <td>upper class</td>\n",
       "      <td>0.5824975869671862</td>\n",
       "      <td>1.0</td>\n",
       "      <td>after 2015</td>\n",
       "      <td>1.0</td>\n",
       "      <td>0.0</td>\n",
       "      <td>92101</td>\n",
       "      <td>10000.0</td>\n",
       "      <td>sedan</td>\n",
       "      <td>3</td>\n",
       "      <td>0</td>\n",
       "      <td>2</td>\n",
       "      <td>0.0</td>\n",
       "    </tr>\n",
       "    <tr>\n",
       "      <th>6016</th>\n",
       "      <td>6016</td>\n",
       "      <td>161972</td>\n",
       "      <td>NaN</td>\n",
       "      <td>none</td>\n",
       "      <td>majority</td>\n",
       "      <td>0-9y</td>\n",
       "      <td>university</td>\n",
       "      <td>upper class</td>\n",
       "      <td>0.5073403294926696</td>\n",
       "      <td>0.0</td>\n",
       "      <td>before 2015</td>\n",
       "      <td>1.0</td>\n",
       "      <td>1.0</td>\n",
       "      <td>32765</td>\n",
       "      <td>11000.0</td>\n",
       "      <td>sedan</td>\n",
       "      <td>0</td>\n",
       "      <td>0</td>\n",
       "      <td>0</td>\n",
       "      <td>1.0</td>\n",
       "    </tr>\n",
       "    <tr>\n",
       "      <th>6144</th>\n",
       "      <td>6144</td>\n",
       "      <td>278061</td>\n",
       "      <td>NaN</td>\n",
       "      <td>male</td>\n",
       "      <td>minority</td>\n",
       "      <td>10-19y</td>\n",
       "      <td>high school</td>\n",
       "      <td>middle class</td>\n",
       "      <td>0.5018947292470292</td>\n",
       "      <td>0.0</td>\n",
       "      <td>before 2015</td>\n",
       "      <td>1.0</td>\n",
       "      <td>1.0</td>\n",
       "      <td>32765</td>\n",
       "      <td>NaN</td>\n",
       "      <td>sedan</td>\n",
       "      <td>2</td>\n",
       "      <td>0</td>\n",
       "      <td>1</td>\n",
       "      <td>1.0</td>\n",
       "    </tr>\n",
       "    <tr>\n",
       "      <th>6942</th>\n",
       "      <td>6942</td>\n",
       "      <td>343615</td>\n",
       "      <td>NaN</td>\n",
       "      <td>male</td>\n",
       "      <td>majority</td>\n",
       "      <td>30y+</td>\n",
       "      <td>university</td>\n",
       "      <td>upper class</td>\n",
       "      <td>0.5358338644512006</td>\n",
       "      <td>1.0</td>\n",
       "      <td>before 2015</td>\n",
       "      <td>1.0</td>\n",
       "      <td>1.0</td>\n",
       "      <td>32765</td>\n",
       "      <td>9000.0</td>\n",
       "      <td>sedan</td>\n",
       "      <td>11</td>\n",
       "      <td>1</td>\n",
       "      <td>none</td>\n",
       "      <td>0.0</td>\n",
       "    </tr>\n",
       "    <tr>\n",
       "      <th>7720</th>\n",
       "      <td>7720</td>\n",
       "      <td>143667</td>\n",
       "      <td>NaN</td>\n",
       "      <td>female</td>\n",
       "      <td>majority</td>\n",
       "      <td>20-29y</td>\n",
       "      <td>high school</td>\n",
       "      <td>working class</td>\n",
       "      <td>0.4042657038387842</td>\n",
       "      <td>1.0</td>\n",
       "      <td>before 2015</td>\n",
       "      <td>1.0</td>\n",
       "      <td>1.0</td>\n",
       "      <td>10238</td>\n",
       "      <td>12000.0</td>\n",
       "      <td>sedan</td>\n",
       "      <td>4</td>\n",
       "      <td>0</td>\n",
       "      <td>3</td>\n",
       "      <td>0.0</td>\n",
       "    </tr>\n",
       "    <tr>\n",
       "      <th>7775</th>\n",
       "      <td>7775</td>\n",
       "      <td>481006</td>\n",
       "      <td>NaN</td>\n",
       "      <td>male</td>\n",
       "      <td>majority</td>\n",
       "      <td>10-19y</td>\n",
       "      <td>high school</td>\n",
       "      <td>upper class</td>\n",
       "      <td>0.8728811463356361</td>\n",
       "      <td>1.0</td>\n",
       "      <td>after 2015</td>\n",
       "      <td>1.0</td>\n",
       "      <td>1.0</td>\n",
       "      <td>10238</td>\n",
       "      <td>NaN</td>\n",
       "      <td>sedan</td>\n",
       "      <td>1</td>\n",
       "      <td>1</td>\n",
       "      <td>3</td>\n",
       "      <td>0.0</td>\n",
       "    </tr>\n",
       "    <tr>\n",
       "      <th>7816</th>\n",
       "      <td>7816</td>\n",
       "      <td>618914</td>\n",
       "      <td>NaN</td>\n",
       "      <td>female</td>\n",
       "      <td>none</td>\n",
       "      <td>10-19y</td>\n",
       "      <td>university</td>\n",
       "      <td>upper class</td>\n",
       "      <td>0.9141168589732092</td>\n",
       "      <td>1.0</td>\n",
       "      <td>before 2015</td>\n",
       "      <td>1.0</td>\n",
       "      <td>1.0</td>\n",
       "      <td>10238</td>\n",
       "      <td>7000.0</td>\n",
       "      <td>sedan</td>\n",
       "      <td>0</td>\n",
       "      <td>0</td>\n",
       "      <td>0</td>\n",
       "      <td>0.0</td>\n",
       "    </tr>\n",
       "    <tr>\n",
       "      <th>7918</th>\n",
       "      <td>7918</td>\n",
       "      <td>896224</td>\n",
       "      <td>NaN</td>\n",
       "      <td>female</td>\n",
       "      <td>minority</td>\n",
       "      <td>30y+</td>\n",
       "      <td>high school</td>\n",
       "      <td>upper class</td>\n",
       "      <td>0.661958533171895</td>\n",
       "      <td>1.0</td>\n",
       "      <td>after 2015</td>\n",
       "      <td>0.0</td>\n",
       "      <td>1.0</td>\n",
       "      <td>10238</td>\n",
       "      <td>15000.0</td>\n",
       "      <td>sedan</td>\n",
       "      <td>4</td>\n",
       "      <td>0</td>\n",
       "      <td>2</td>\n",
       "      <td>0.0</td>\n",
       "    </tr>\n",
       "    <tr>\n",
       "      <th>8090</th>\n",
       "      <td>8090</td>\n",
       "      <td>319786</td>\n",
       "      <td>NaN</td>\n",
       "      <td>male</td>\n",
       "      <td>majority</td>\n",
       "      <td>0-9y</td>\n",
       "      <td>university</td>\n",
       "      <td>upper class</td>\n",
       "      <td>0.6082656962441383</td>\n",
       "      <td>1.0</td>\n",
       "      <td>before 2015</td>\n",
       "      <td>1.0</td>\n",
       "      <td>0.0</td>\n",
       "      <td>10238</td>\n",
       "      <td>13000.0</td>\n",
       "      <td>sedan</td>\n",
       "      <td>0</td>\n",
       "      <td>0</td>\n",
       "      <td>0</td>\n",
       "      <td>1.0</td>\n",
       "    </tr>\n",
       "    <tr>\n",
       "      <th>8640</th>\n",
       "      <td>8640</td>\n",
       "      <td>740411</td>\n",
       "      <td>NaN</td>\n",
       "      <td>male</td>\n",
       "      <td>majority</td>\n",
       "      <td>10-19y</td>\n",
       "      <td>university</td>\n",
       "      <td>upper class</td>\n",
       "      <td>NaN</td>\n",
       "      <td>0.0</td>\n",
       "      <td>after 2015</td>\n",
       "      <td>1.0</td>\n",
       "      <td>1.0</td>\n",
       "      <td>10238</td>\n",
       "      <td>13000.0</td>\n",
       "      <td>sedan</td>\n",
       "      <td>2</td>\n",
       "      <td>1</td>\n",
       "      <td>1</td>\n",
       "      <td>0.0</td>\n",
       "    </tr>\n",
       "    <tr>\n",
       "      <th>8947</th>\n",
       "      <td>8947</td>\n",
       "      <td>841092</td>\n",
       "      <td>NaN</td>\n",
       "      <td>male</td>\n",
       "      <td>majority</td>\n",
       "      <td>10-19y</td>\n",
       "      <td>high school</td>\n",
       "      <td>middle class</td>\n",
       "      <td>0.4118152950314071</td>\n",
       "      <td>1.0</td>\n",
       "      <td>before 2015</td>\n",
       "      <td>1.0</td>\n",
       "      <td>1.0</td>\n",
       "      <td>10238</td>\n",
       "      <td>11000.0</td>\n",
       "      <td>sedan</td>\n",
       "      <td>1</td>\n",
       "      <td>0</td>\n",
       "      <td>0</td>\n",
       "      <td>1.0</td>\n",
       "    </tr>\n",
       "    <tr>\n",
       "      <th>9055</th>\n",
       "      <td>9055</td>\n",
       "      <td>930407</td>\n",
       "      <td>NaN</td>\n",
       "      <td>male</td>\n",
       "      <td>majority</td>\n",
       "      <td>20-29y</td>\n",
       "      <td>high school</td>\n",
       "      <td>upper class</td>\n",
       "      <td>0.5670325638533684</td>\n",
       "      <td>1.0</td>\n",
       "      <td>before 2015</td>\n",
       "      <td>1.0</td>\n",
       "      <td>1.0</td>\n",
       "      <td>10238</td>\n",
       "      <td>NaN</td>\n",
       "      <td>sedan</td>\n",
       "      <td>5</td>\n",
       "      <td>0</td>\n",
       "      <td>6</td>\n",
       "      <td>0.0</td>\n",
       "    </tr>\n",
       "    <tr>\n",
       "      <th>9484</th>\n",
       "      <td>9484</td>\n",
       "      <td>296999</td>\n",
       "      <td>NaN</td>\n",
       "      <td>female</td>\n",
       "      <td>majority</td>\n",
       "      <td>20-29y</td>\n",
       "      <td>high school</td>\n",
       "      <td>working class</td>\n",
       "      <td>NaN</td>\n",
       "      <td>0.0</td>\n",
       "      <td>before 2015</td>\n",
       "      <td>1.0</td>\n",
       "      <td>1.0</td>\n",
       "      <td>10238</td>\n",
       "      <td>14000.0</td>\n",
       "      <td>sedan</td>\n",
       "      <td>2</td>\n",
       "      <td>0</td>\n",
       "      <td>3</td>\n",
       "      <td>1.0</td>\n",
       "    </tr>\n",
       "    <tr>\n",
       "      <th>9613</th>\n",
       "      <td>9613</td>\n",
       "      <td>542940</td>\n",
       "      <td>NaN</td>\n",
       "      <td>male</td>\n",
       "      <td>majority</td>\n",
       "      <td>10-19y</td>\n",
       "      <td>high school</td>\n",
       "      <td>upper class</td>\n",
       "      <td>0.5129415095468454</td>\n",
       "      <td>1.0</td>\n",
       "      <td>after 2015</td>\n",
       "      <td>1.0</td>\n",
       "      <td>0.0</td>\n",
       "      <td>10238</td>\n",
       "      <td>16000.0</td>\n",
       "      <td>sedan</td>\n",
       "      <td>0</td>\n",
       "      <td>0</td>\n",
       "      <td>1</td>\n",
       "      <td>0.0</td>\n",
       "    </tr>\n",
       "    <tr>\n",
       "      <th>9753</th>\n",
       "      <td>9753</td>\n",
       "      <td>385216</td>\n",
       "      <td>NaN</td>\n",
       "      <td>female</td>\n",
       "      <td>majority</td>\n",
       "      <td>20-29y</td>\n",
       "      <td>university</td>\n",
       "      <td>upper class</td>\n",
       "      <td>0.5424532094676138</td>\n",
       "      <td>1.0</td>\n",
       "      <td>after 2015</td>\n",
       "      <td>1.0</td>\n",
       "      <td>1.0</td>\n",
       "      <td>10238</td>\n",
       "      <td>12000.0</td>\n",
       "      <td>sedan</td>\n",
       "      <td>0</td>\n",
       "      <td>0</td>\n",
       "      <td>1</td>\n",
       "      <td>0.0</td>\n",
       "    </tr>\n",
       "    <tr>\n",
       "      <th>9990</th>\n",
       "      <td>9990</td>\n",
       "      <td>302403</td>\n",
       "      <td>NaN</td>\n",
       "      <td>female</td>\n",
       "      <td>majority</td>\n",
       "      <td>0-9y</td>\n",
       "      <td>high school</td>\n",
       "      <td>working class</td>\n",
       "      <td>0.502119705029764</td>\n",
       "      <td>1.0</td>\n",
       "      <td>before 2015</td>\n",
       "      <td>0.0</td>\n",
       "      <td>1.0</td>\n",
       "      <td>32765</td>\n",
       "      <td>10000.0</td>\n",
       "      <td>sedan</td>\n",
       "      <td>0</td>\n",
       "      <td>0</td>\n",
       "      <td>0</td>\n",
       "      <td>1.0</td>\n",
       "    </tr>\n",
       "  </tbody>\n",
       "</table>\n",
       "</div>"
      ],
      "text/plain": [
       "      Unnamed: 0      ID  AGE  GENDER      RACE DRIVING_EXPERIENCE  \\\n",
       "377          377   22475  NaN  female  majority               0-9y   \n",
       "511          511   55182  NaN  female  majority             10-19y   \n",
       "571          571  626735  NaN  female  majority               0-9y   \n",
       "666          666  420204  NaN    male  majority             20-29y   \n",
       "769          769   45019  NaN  female  majority               0-9y   \n",
       "1077        1077   50734  NaN  female  majority               0-9y   \n",
       "1145        1145   67899  NaN    male  majority               30y+   \n",
       "1298        1298  183837  NaN  female  majority             20-29y   \n",
       "1440        1440  976721  NaN  female  majority             20-29y   \n",
       "1784        1784  513565  NaN  female  majority               0-9y   \n",
       "1875        1875  110283  NaN  female  majority               0-9y   \n",
       "2288        2288  847188  NaN  female  majority             20-29y   \n",
       "2655        2655  883171  NaN  female  minority               0-9y   \n",
       "2777        2777  384342  NaN  female  majority             20-29y   \n",
       "2829        2829  872748  NaN    male  majority               0-9y   \n",
       "3045        3045  172866  NaN  female  majority               0-9y   \n",
       "3052        3052    4747  NaN  female  majority             20-29y   \n",
       "3248        3248  314564  NaN  female  majority               0-9y   \n",
       "3261        3261  209049  NaN    male  majority             10-19y   \n",
       "3343        3343   57078  NaN    male  majority             20-29y   \n",
       "3376        3376   58611  NaN  female  majority               0-9y   \n",
       "3626        3626  141111  NaN    male  majority               0-9y   \n",
       "3640        3640  634309  NaN    male  majority             10-19y   \n",
       "4086        4086  352133  NaN    male  majority               30y+   \n",
       "4399        4399  135855  NaN    male  majority               0-9y   \n",
       "4510        4510  915389  NaN  female  majority             10-19y   \n",
       "4556        4556  292609  NaN  female  majority             10-19y   \n",
       "4565        4565  403549  NaN  female  minority             10-19y   \n",
       "5472        5472  509738  NaN    male  majority               0-9y   \n",
       "5640        5640  328633  NaN    male  majority               0-9y   \n",
       "5649        5649  703183  NaN  female  majority             20-29y   \n",
       "5684        5684  346384  NaN  female  majority             20-29y   \n",
       "5880        5880  862136  NaN    male  majority             10-19y   \n",
       "6006        6006  839283  NaN    male  majority             20-29y   \n",
       "6015        6015  624831  NaN    male  minority             20-29y   \n",
       "6016        6016  161972  NaN    none  majority               0-9y   \n",
       "6144        6144  278061  NaN    male  minority             10-19y   \n",
       "6942        6942  343615  NaN    male  majority               30y+   \n",
       "7720        7720  143667  NaN  female  majority             20-29y   \n",
       "7775        7775  481006  NaN    male  majority             10-19y   \n",
       "7816        7816  618914  NaN  female      none             10-19y   \n",
       "7918        7918  896224  NaN  female  minority               30y+   \n",
       "8090        8090  319786  NaN    male  majority               0-9y   \n",
       "8640        8640  740411  NaN    male  majority             10-19y   \n",
       "8947        8947  841092  NaN    male  majority             10-19y   \n",
       "9055        9055  930407  NaN    male  majority             20-29y   \n",
       "9484        9484  296999  NaN  female  majority             20-29y   \n",
       "9613        9613  542940  NaN    male  majority             10-19y   \n",
       "9753        9753  385216  NaN  female  majority             20-29y   \n",
       "9990        9990  302403  NaN  female  majority               0-9y   \n",
       "\n",
       "        EDUCATION         INCOME        CREDIT_SCORE VEHICLE_OWNERSHIP  \\\n",
       "377   high school   middle class  0.5905674346205279               1.0   \n",
       "511   high school  working class  0.5178262960914578               1.0   \n",
       "571    university  working class                 NaN               1.0   \n",
       "666    university    upper class  0.7459522237963077               1.0   \n",
       "769    university   middle class  0.6714519317340388               0.0   \n",
       "1077         none        poverty  0.3307771935047669               0.0   \n",
       "1145  high school    upper class                 NaN               1.0   \n",
       "1298   university    upper class  0.5172578396228402               1.0   \n",
       "1440   university    upper class  0.6518121915052597               1.0   \n",
       "1784  high school  working class  0.6578040520558444               1.0   \n",
       "1875   university    upper class  0.5635661989200738               1.0   \n",
       "2288   university   middle class  0.4590963601154736               1.0   \n",
       "2655  high school        poverty  0.4351756628940996               1.0   \n",
       "2777   university    upper class   0.512923620015934               1.0   \n",
       "2829   university    upper class  0.5085456984605072               1.0   \n",
       "3045         none  working class  0.5137348627380244               0.0   \n",
       "3052         none   middle class  0.6534312027273705               1.0   \n",
       "3248         none        poverty  0.3975139345685761               0.0   \n",
       "3261   university    upper class  0.6352679101945021               1.0   \n",
       "3343   university    upper class  0.5270405908938821               1.0   \n",
       "3376  high school        poverty  0.3652981607970365               1.0   \n",
       "3626  high school   middle class  0.5059066956176601               0.0   \n",
       "3640         none  working class  0.2072769053354858               1.0   \n",
       "4086   university    upper class   0.646019745527352               0.0   \n",
       "4399   university    upper class                 NaN               1.0   \n",
       "4510         none        poverty  0.4133590098652053               0.0   \n",
       "4556   university    upper class  0.6603027887946995               1.0   \n",
       "4565   university   middle class  0.7061275331201278               1.0   \n",
       "5472   university    upper class  0.4562250485636365               1.0   \n",
       "5640   university   middle class    0.41480763135074               0.0   \n",
       "5649  high school    upper class  0.6528006340664879               1.0   \n",
       "5684   university    upper class  0.5307622793835239               1.0   \n",
       "5880   university  working class  0.2260193423943462               0.0   \n",
       "6006   university    upper class  0.6032711170547711               1.0   \n",
       "6015  high school    upper class  0.5824975869671862               1.0   \n",
       "6016   university    upper class  0.5073403294926696               0.0   \n",
       "6144  high school   middle class  0.5018947292470292               0.0   \n",
       "6942   university    upper class  0.5358338644512006               1.0   \n",
       "7720  high school  working class  0.4042657038387842               1.0   \n",
       "7775  high school    upper class  0.8728811463356361               1.0   \n",
       "7816   university    upper class  0.9141168589732092               1.0   \n",
       "7918  high school    upper class   0.661958533171895               1.0   \n",
       "8090   university    upper class  0.6082656962441383               1.0   \n",
       "8640   university    upper class                 NaN               0.0   \n",
       "8947  high school   middle class  0.4118152950314071               1.0   \n",
       "9055  high school    upper class  0.5670325638533684               1.0   \n",
       "9484  high school  working class                 NaN               0.0   \n",
       "9613  high school    upper class  0.5129415095468454               1.0   \n",
       "9753   university    upper class  0.5424532094676138               1.0   \n",
       "9990  high school  working class   0.502119705029764               1.0   \n",
       "\n",
       "     VEHICLE_YEAR MARRIED CHILDREN POSTAL_CODE ANNUAL_MILEAGE VEHICLE_TYPE  \\\n",
       "377   before 2015     1.0      0.0       10238        11000.0        sedan   \n",
       "511    after 2015     0.0      0.0       32765        10000.0        sedan   \n",
       "571          none     0.0      0.0       32765        13000.0        sedan   \n",
       "666   before 2015     1.0      1.0       10238         9000.0        sedan   \n",
       "769   before 2015     0.0      1.0       92101        14000.0        sedan   \n",
       "1077          NaN     1.0      1.0       10238        13000.0        sedan   \n",
       "1145   after 2015     1.0      1.0       10238         7000.0        sedan   \n",
       "1298  before 2015     1.0      1.0       10238        13000.0        sedan   \n",
       "1440   after 2015     1.0      1.0       10238         7000.0        sedan   \n",
       "1784  before 2015     0.0      0.0       32765        14000.0        sedan   \n",
       "1875   after 2015     1.0      1.0       10238        14000.0        sedan   \n",
       "2288  before 2015     1.0      1.0       10238        10000.0        sedan   \n",
       "2655  before 2015     NaN      0.0       10238        15000.0   sports car   \n",
       "2777  before 2015     1.0      1.0       32765         6000.0        sedan   \n",
       "2829   after 2015     1.0      1.0       10238        10000.0        sedan   \n",
       "3045  before 2015     0.0      0.0       10238        11000.0        sedan   \n",
       "3052  before 2015     0.0      1.0       10238        10000.0        sedan   \n",
       "3248  before 2015     1.0      0.0       10238        13000.0        sedan   \n",
       "3261  before 2015     1.0      1.0       32765            NaN        sedan   \n",
       "3343  before 2015     1.0      1.0       10238         9000.0        sedan   \n",
       "3376  before 2015     0.0      0.0       10238        14000.0   sports car   \n",
       "3626  before 2015     1.0      1.0       10238         4000.0        sedan   \n",
       "3640  before 2015     1.0      1.0       10238            NaN        sedan   \n",
       "4086   after 2015     1.0      1.0       10238        10000.0        sedan   \n",
       "4399  before 2015     0.0      1.0       32765        12000.0        sedan   \n",
       "4510  before 2015     1.0      1.0       10238        13000.0        sedan   \n",
       "4556   after 2015     1.0      1.0       10238        14000.0        sedan   \n",
       "4565  before 2015     0.0      0.0       10238        15000.0        sedan   \n",
       "5472   after 2015     0.0      1.0       10238        13000.0        sedan   \n",
       "5640  before 2015     0.0      0.0       10238        13000.0        sedan   \n",
       "5649   after 2015     1.0      1.0       32765            NaN        sedan   \n",
       "5684  before 2015     1.0      1.0       32765         7000.0        sedan   \n",
       "5880          NaN     1.0      0.0       92101            NaN        sedan   \n",
       "6006   after 2015     0.0      1.0       32765        11000.0        sedan   \n",
       "6015   after 2015     1.0      0.0       92101        10000.0        sedan   \n",
       "6016  before 2015     1.0      1.0       32765        11000.0        sedan   \n",
       "6144  before 2015     1.0      1.0       32765            NaN        sedan   \n",
       "6942  before 2015     1.0      1.0       32765         9000.0        sedan   \n",
       "7720  before 2015     1.0      1.0       10238        12000.0        sedan   \n",
       "7775   after 2015     1.0      1.0       10238            NaN        sedan   \n",
       "7816  before 2015     1.0      1.0       10238         7000.0        sedan   \n",
       "7918   after 2015     0.0      1.0       10238        15000.0        sedan   \n",
       "8090  before 2015     1.0      0.0       10238        13000.0        sedan   \n",
       "8640   after 2015     1.0      1.0       10238        13000.0        sedan   \n",
       "8947  before 2015     1.0      1.0       10238        11000.0        sedan   \n",
       "9055  before 2015     1.0      1.0       10238            NaN        sedan   \n",
       "9484  before 2015     1.0      1.0       10238        14000.0        sedan   \n",
       "9613   after 2015     1.0      0.0       10238        16000.0        sedan   \n",
       "9753   after 2015     1.0      1.0       10238        12000.0        sedan   \n",
       "9990  before 2015     0.0      1.0       32765        10000.0        sedan   \n",
       "\n",
       "     SPEEDING_VIOLATIONS DUIS PAST_ACCIDENTS OUTCOME  \n",
       "377                    0    0              0     0.0  \n",
       "511                    2    0              0     0.0  \n",
       "571                    0    0              0     0.0  \n",
       "666                    2    0              3     0.0  \n",
       "769                    0    0              0     0.0  \n",
       "1077                   0    0              0     1.0  \n",
       "1145                   5  NaN             11     0.0  \n",
       "1298                   1    0              0     0.0  \n",
       "1440                   2    0              4     0.0  \n",
       "1784                   0    0              0     1.0  \n",
       "1875                   0    0              0     0.0  \n",
       "2288                   4    1              0     0.0  \n",
       "2655                   0    0              0     1.0  \n",
       "2777                   6    0              0     0.0  \n",
       "2829                   0    0              0     1.0  \n",
       "3045                   0    0              0     1.0  \n",
       "3052                   0    0              0     0.0  \n",
       "3248                   0    0              0     1.0  \n",
       "3261                   3    0              1    none  \n",
       "3343                   5    0              0     0.0  \n",
       "3376                   0    0              0     0.0  \n",
       "3626                   0    0              0     1.0  \n",
       "3640                   4    0              4     1.0  \n",
       "4086                   6    1              9     0.0  \n",
       "4399                   0    0              0     1.0  \n",
       "4510                   0    0              0     0.0  \n",
       "4556                   0    0              0     0.0  \n",
       "4565                   1    1              0     0.0  \n",
       "5472                   0    0              0     0.0  \n",
       "5640                   0    0              0     1.0  \n",
       "5649                   3    1              0     0.0  \n",
       "5684                   4    2              1     0.0  \n",
       "5880                   1    0              2     1.0  \n",
       "6006                   8    3              0     0.0  \n",
       "6015                   3    0              2     0.0  \n",
       "6016                   0    0              0     1.0  \n",
       "6144                   2    0              1     1.0  \n",
       "6942                  11    1           none     0.0  \n",
       "7720                   4    0              3     0.0  \n",
       "7775                   1    1              3     0.0  \n",
       "7816                   0    0              0     0.0  \n",
       "7918                   4    0              2     0.0  \n",
       "8090                   0    0              0     1.0  \n",
       "8640                   2    1              1     0.0  \n",
       "8947                   1    0              0     1.0  \n",
       "9055                   5    0              6     0.0  \n",
       "9484                   2    0              3     1.0  \n",
       "9613                   0    0              1     0.0  \n",
       "9753                   0    0              1     0.0  \n",
       "9990                   0    0              0     1.0  "
      ]
     },
     "execution_count": 6,
     "metadata": {},
     "output_type": "execute_result"
    }
   ],
   "source": [
    "data[data['AGE'].isnull()]"
   ]
  },
  {
   "cell_type": "code",
   "execution_count": 10,
   "id": "1b0d67e2-d37f-44a2-9a09-32d4e77ab92b",
   "metadata": {
    "scrolled": true
   },
   "outputs": [
    {
     "data": {
      "text/html": [
       "<div>\n",
       "<style scoped>\n",
       "    .dataframe tbody tr th:only-of-type {\n",
       "        vertical-align: middle;\n",
       "    }\n",
       "\n",
       "    .dataframe tbody tr th {\n",
       "        vertical-align: top;\n",
       "    }\n",
       "\n",
       "    .dataframe thead th {\n",
       "        text-align: right;\n",
       "    }\n",
       "</style>\n",
       "<table border=\"1\" class=\"dataframe\">\n",
       "  <thead>\n",
       "    <tr style=\"text-align: right;\">\n",
       "      <th></th>\n",
       "      <th>INCOME</th>\n",
       "      <th>OUTCOME</th>\n",
       "    </tr>\n",
       "  </thead>\n",
       "  <tbody>\n",
       "    <tr>\n",
       "      <th>0</th>\n",
       "      <td>upper class</td>\n",
       "      <td>0.0</td>\n",
       "    </tr>\n",
       "    <tr>\n",
       "      <th>1</th>\n",
       "      <td>poverty</td>\n",
       "      <td>1.0</td>\n",
       "    </tr>\n",
       "    <tr>\n",
       "      <th>2</th>\n",
       "      <td>working class</td>\n",
       "      <td>0.0</td>\n",
       "    </tr>\n",
       "    <tr>\n",
       "      <th>3</th>\n",
       "      <td>working class</td>\n",
       "      <td>0.0</td>\n",
       "    </tr>\n",
       "    <tr>\n",
       "      <th>4</th>\n",
       "      <td>working class</td>\n",
       "      <td>1.0</td>\n",
       "    </tr>\n",
       "    <tr>\n",
       "      <th>...</th>\n",
       "      <td>...</td>\n",
       "      <td>...</td>\n",
       "    </tr>\n",
       "    <tr>\n",
       "      <th>9995</th>\n",
       "      <td>upper class</td>\n",
       "      <td>0.0</td>\n",
       "    </tr>\n",
       "    <tr>\n",
       "      <th>9996</th>\n",
       "      <td>middle class</td>\n",
       "      <td>0.0</td>\n",
       "    </tr>\n",
       "    <tr>\n",
       "      <th>9997</th>\n",
       "      <td>middle class</td>\n",
       "      <td>0.0</td>\n",
       "    </tr>\n",
       "    <tr>\n",
       "      <th>9998</th>\n",
       "      <td>poverty</td>\n",
       "      <td>1.0</td>\n",
       "    </tr>\n",
       "    <tr>\n",
       "      <th>9999</th>\n",
       "      <td>working class</td>\n",
       "      <td>0.0</td>\n",
       "    </tr>\n",
       "  </tbody>\n",
       "</table>\n",
       "<p>10000 rows × 2 columns</p>\n",
       "</div>"
      ],
      "text/plain": [
       "             INCOME OUTCOME\n",
       "0       upper class     0.0\n",
       "1           poverty     1.0\n",
       "2     working class     0.0\n",
       "3     working class     0.0\n",
       "4     working class     1.0\n",
       "...             ...     ...\n",
       "9995    upper class     0.0\n",
       "9996   middle class     0.0\n",
       "9997   middle class     0.0\n",
       "9998        poverty     1.0\n",
       "9999  working class     0.0\n",
       "\n",
       "[10000 rows x 2 columns]"
      ]
     },
     "execution_count": 10,
     "metadata": {},
     "output_type": "execute_result"
    }
   ],
   "source": [
    "data[['INCOME', \"OUTCOME\"]]"
   ]
  },
  {
   "cell_type": "code",
   "execution_count": 110,
   "id": "36caff19-2290-47d8-a263-abf69d8ba682",
   "metadata": {},
   "outputs": [
    {
     "data": {
      "text/plain": [
       "array(['upper class', 'poverty', 'working class', 'middle class'],\n",
       "      dtype=object)"
      ]
     },
     "execution_count": 110,
     "metadata": {},
     "output_type": "execute_result"
    }
   ],
   "source": [
    "data['INCOME'].unique()"
   ]
  },
  {
   "cell_type": "code",
   "execution_count": 111,
   "id": "a7c30287-cf9b-44d7-b8e7-a6eeca8d8a9a",
   "metadata": {},
   "outputs": [
    {
     "data": {
      "text/plain": [
       "array(['high school', 'none', 'university', nan], dtype=object)"
      ]
     },
     "execution_count": 111,
     "metadata": {},
     "output_type": "execute_result"
    }
   ],
   "source": [
    "data['EDUCATION'].unique()"
   ]
  },
  {
   "cell_type": "code",
   "execution_count": 112,
   "id": "c9a24734-0d6b-4fa3-8e78-c224e28d9c58",
   "metadata": {},
   "outputs": [
    {
     "data": {
      "text/plain": [
       "array(['majority', 'minority', nan, 'none'], dtype=object)"
      ]
     },
     "execution_count": 112,
     "metadata": {},
     "output_type": "execute_result"
    }
   ],
   "source": [
    "data['RACE'].unique()"
   ]
  },
  {
   "cell_type": "code",
   "execution_count": 113,
   "id": "04b0308a-6a7f-4de1-a6cb-b8c69b7b4fc8",
   "metadata": {},
   "outputs": [
    {
     "data": {
      "text/plain": [
       "array(['after 2015', 'before 2015', nan, 'none'], dtype=object)"
      ]
     },
     "execution_count": 113,
     "metadata": {},
     "output_type": "execute_result"
    }
   ],
   "source": [
    "data['VEHICLE_YEAR'].unique()"
   ]
  },
  {
   "cell_type": "markdown",
   "id": "98a91a30-75bb-4bee-8268-0923a51434dc",
   "metadata": {},
   "source": [
    "__CLEAN UP__\n",
    "\n",
    "I store all valid data (not contain null etc.)"
   ]
  },
  {
   "cell_type": "code",
   "execution_count": 114,
   "id": "37a5f973-3610-4133-818b-55131a9b1c17",
   "metadata": {
    "scrolled": true
   },
   "outputs": [
    {
     "name": "stdout",
     "output_type": "stream",
     "text": [
      "<class 'pandas.core.frame.DataFrame'>\n",
      "Index: 7488 entries, 0 to 9999\n",
      "Data columns (total 20 columns):\n",
      " #   Column               Non-Null Count  Dtype \n",
      "---  ------               --------------  ----- \n",
      " 0   Unnamed: 0           7488 non-null   int64 \n",
      " 1   ID                   7488 non-null   int64 \n",
      " 2   AGE                  7488 non-null   object\n",
      " 3   GENDER               7488 non-null   object\n",
      " 4   RACE                 7488 non-null   object\n",
      " 5   DRIVING_EXPERIENCE   7488 non-null   object\n",
      " 6   EDUCATION            7488 non-null   object\n",
      " 7   INCOME               7488 non-null   object\n",
      " 8   CREDIT_SCORE         7488 non-null   object\n",
      " 9   VEHICLE_OWNERSHIP    7488 non-null   object\n",
      " 10  VEHICLE_YEAR         7488 non-null   object\n",
      " 11  MARRIED              7488 non-null   object\n",
      " 12  CHILDREN             7488 non-null   object\n",
      " 13  POSTAL_CODE          7488 non-null   object\n",
      " 14  ANNUAL_MILEAGE       7488 non-null   object\n",
      " 15  VEHICLE_TYPE         7488 non-null   object\n",
      " 16  SPEEDING_VIOLATIONS  7488 non-null   object\n",
      " 17  DUIS                 7488 non-null   object\n",
      " 18  PAST_ACCIDENTS       7488 non-null   object\n",
      " 19  OUTCOME              7488 non-null   object\n",
      "dtypes: int64(2), object(18)\n",
      "memory usage: 1.2+ MB\n"
     ]
    }
   ],
   "source": [
    "\n",
    "df_clean = data.dropna(axis=0)\n",
    "df_clean.info()"
   ]
  },
  {
   "cell_type": "code",
   "execution_count": 115,
   "id": "c291157b-e143-48b4-97be-d4ae010fa8a5",
   "metadata": {},
   "outputs": [
    {
     "data": {
      "text/plain": [
       "array(['majority', 'minority', 'none'], dtype=object)"
      ]
     },
     "execution_count": 115,
     "metadata": {},
     "output_type": "execute_result"
    }
   ],
   "source": [
    "df_clean['RACE'].unique()"
   ]
  },
  {
   "cell_type": "code",
   "execution_count": 116,
   "id": "a3a98bdc-e7d4-4f47-a75d-c9cd856d27c4",
   "metadata": {},
   "outputs": [],
   "source": [
    "df_clean = df_clean[~df_clean.astype(str).apply(lambda row: row.str.lower().eq('none').any(), axis=1)]"
   ]
  },
  {
   "cell_type": "code",
   "execution_count": 117,
   "id": "54faaabf-2080-4145-b8f9-f8c4a2ca3388",
   "metadata": {},
   "outputs": [
    {
     "data": {
      "text/plain": [
       "array(['majority', 'minority'], dtype=object)"
      ]
     },
     "execution_count": 117,
     "metadata": {},
     "output_type": "execute_result"
    }
   ],
   "source": [
    "df_clean['RACE'].unique()"
   ]
  },
  {
   "cell_type": "code",
   "execution_count": 118,
   "id": "4a2cc389-bbc9-47b3-a66a-062f03d4825f",
   "metadata": {},
   "outputs": [],
   "source": [
    "df_clean = df_clean.drop(columns=['Unnamed: 0', 'ID', 'DUIS', 'POSTAL_CODE'])"
   ]
  },
  {
   "cell_type": "code",
   "execution_count": 141,
   "id": "fd4e8bad-8df6-4dfe-9063-82bd7871d070",
   "metadata": {},
   "outputs": [],
   "source": [
    "df_clean['OUTCOME'] = df_clean['OUTCOME'].astype(float)\n",
    "df_clean['PAST_ACCIDENTS'] = df_clean['PAST_ACCIDENTS'].astype(int)\n",
    "df_clean['SPEEDING_VIOLATIONS'] = df_clean['SPEEDING_VIOLATIONS'].astype(int)\n",
    "df_clean['CREDIT_SCORE'] = df_clean['CREDIT_SCORE'].astype(float)\n",
    "df_clean['VEHICLE_OWNERSHIP'] = df_clean['VEHICLE_OWNERSHIP'].astype(float)\n",
    "df_clean['MARRIED'] = df_clean['MARRIED'].astype(float)\n",
    "df_clean['ANNUAL_MILEAGE'] = df_clean['ANNUAL_MILEAGE'].astype(float)"
   ]
  },
  {
   "cell_type": "code",
   "execution_count": 142,
   "id": "b6fa5d7e-ed1f-4044-850c-5a832efe920e",
   "metadata": {},
   "outputs": [
    {
     "data": {
      "text/plain": [
       "array([12000., 11000., 13000., 14000., 10000., 18000., 17000.,  8000.,\n",
       "        7000.,  9000., 16000., 15000.,  5000.,  6000., 19000.,  4000.,\n",
       "        3000.,  2000., 20000., 21000.])"
      ]
     },
     "execution_count": 142,
     "metadata": {},
     "output_type": "execute_result"
    }
   ],
   "source": [
    "df_clean['ANNUAL_MILEAGE'].unique()"
   ]
  },
  {
   "cell_type": "code",
   "execution_count": 143,
   "id": "b19e96e7-9741-49cd-bf4b-b3de05534996",
   "metadata": {
    "scrolled": true
   },
   "outputs": [
    {
     "name": "stdout",
     "output_type": "stream",
     "text": [
      "<class 'pandas.core.frame.DataFrame'>\n",
      "Index: 5583 entries, 0 to 9998\n",
      "Data columns (total 16 columns):\n",
      " #   Column               Non-Null Count  Dtype  \n",
      "---  ------               --------------  -----  \n",
      " 0   AGE                  5583 non-null   object \n",
      " 1   GENDER               5583 non-null   object \n",
      " 2   RACE                 5583 non-null   object \n",
      " 3   DRIVING_EXPERIENCE   5583 non-null   object \n",
      " 4   EDUCATION            5583 non-null   object \n",
      " 5   INCOME               5583 non-null   object \n",
      " 6   CREDIT_SCORE         5583 non-null   float64\n",
      " 7   VEHICLE_OWNERSHIP    5583 non-null   float64\n",
      " 8   VEHICLE_YEAR         5583 non-null   object \n",
      " 9   MARRIED              5583 non-null   float64\n",
      " 10  CHILDREN             5583 non-null   object \n",
      " 11  ANNUAL_MILEAGE       5583 non-null   float64\n",
      " 12  VEHICLE_TYPE         5583 non-null   object \n",
      " 13  SPEEDING_VIOLATIONS  5583 non-null   int64  \n",
      " 14  PAST_ACCIDENTS       5583 non-null   int64  \n",
      " 15  OUTCOME              5583 non-null   float64\n",
      "dtypes: float64(5), int64(2), object(9)\n",
      "memory usage: 741.5+ KB\n"
     ]
    }
   ],
   "source": [
    "df_clean.info()"
   ]
  },
  {
   "cell_type": "markdown",
   "id": "ac7eefb6-5b57-4f77-80e3-1564a0fcbef0",
   "metadata": {},
   "source": [
    "__DESCRIBE__\n",
    "\n"
   ]
  },
  {
   "cell_type": "code",
   "execution_count": 144,
   "id": "094578ca-e20f-4d07-b06d-952c9e1ef507",
   "metadata": {},
   "outputs": [],
   "source": [
    "df = df_clean"
   ]
  },
  {
   "cell_type": "code",
   "execution_count": 187,
   "id": "361f44de-451e-4e9d-b18b-bde432cf6753",
   "metadata": {},
   "outputs": [
    {
     "data": {
      "text/plain": [
       "Index(['AGE', 'GENDER', 'RACE', 'DRIVING_EXPERIENCE', 'EDUCATION', 'INCOME',\n",
       "       'CREDIT_SCORE', 'VEHICLE_OWNERSHIP', 'VEHICLE_YEAR', 'MARRIED',\n",
       "       'CHILDREN', 'ANNUAL_MILEAGE', 'VEHICLE_TYPE', 'SPEEDING_VIOLATIONS',\n",
       "       'PAST_ACCIDENTS', 'OUTCOME'],\n",
       "      dtype='object')"
      ]
     },
     "execution_count": 187,
     "metadata": {},
     "output_type": "execute_result"
    }
   ],
   "source": [
    "df.columns"
   ]
  },
  {
   "cell_type": "code",
   "execution_count": 146,
   "id": "c224d53b-2788-45e1-8083-ca10b23e7b95",
   "metadata": {},
   "outputs": [],
   "source": [
    "unique_values = dict()\n",
    "for col in df.columns:\n",
    "    unique_values[col] = df[col].unique()"
   ]
  },
  {
   "cell_type": "code",
   "execution_count": 147,
   "id": "9bbe9fde-cc77-499a-afdf-20330509d51b",
   "metadata": {},
   "outputs": [
    {
     "data": {
      "text/plain": [
       "{'AGE': array(['65+', '16-25', '40-64', '26-39'], dtype=object),\n",
       " 'GENDER': array(['female', 'male'], dtype=object),\n",
       " 'RACE': array(['majority', 'minority'], dtype=object),\n",
       " 'DRIVING_EXPERIENCE': array(['0-9y', '20-29y', '30y+', '10-19y'], dtype=object),\n",
       " 'EDUCATION': array(['high school', 'university'], dtype=object),\n",
       " 'INCOME': array(['upper class', 'working class', 'middle class', 'poverty'],\n",
       "       dtype=object),\n",
       " 'CREDIT_SCORE': array([0.62902731, 0.49314579, 0.61912737, ..., 0.58278707, 0.47094023,\n",
       "        0.36418478]),\n",
       " 'VEHICLE_OWNERSHIP': array([1., 0.]),\n",
       " 'VEHICLE_YEAR': array(['after 2015', 'before 2015'], dtype=object),\n",
       " 'MARRIED': array([0., 1.]),\n",
       " 'CHILDREN': array(['1.0', '0.0'], dtype=object),\n",
       " 'ANNUAL_MILEAGE': array([12000., 11000., 13000., 14000., 10000., 18000., 17000.,  8000.,\n",
       "         7000.,  9000., 16000., 15000.,  5000.,  6000., 19000.,  4000.,\n",
       "         3000.,  2000., 20000., 21000.]),\n",
       " 'VEHICLE_TYPE': array(['sedan', 'sports car'], dtype=object),\n",
       " 'SPEEDING_VIOLATIONS': array([ 0,  3,  7,  6,  4, 13,  1,  2,  5, 10,  9,  8, 11, 12, 15, 17, 18,\n",
       "        16, 14, 22]),\n",
       " 'PAST_ACCIDENTS': array([ 0,  3,  7,  1,  2,  4,  5,  6, 10,  8,  9, 11, 12, 14, 15]),\n",
       " 'OUTCOME': array([0., 1.])}"
      ]
     },
     "execution_count": 147,
     "metadata": {},
     "output_type": "execute_result"
    }
   ],
   "source": [
    "unique_values"
   ]
  },
  {
   "cell_type": "markdown",
   "id": "939fac82-d95c-4956-9b95-80e9b8fe4b8f",
   "metadata": {},
   "source": [
    "__CREDIT_SCORE__\n",
    "\n",
    "laziness write to loop XD"
   ]
  },
  {
   "cell_type": "code",
   "execution_count": 148,
   "id": "c734624e-d484-4033-9018-b995a5012188",
   "metadata": {},
   "outputs": [
    {
     "data": {
      "text/plain": [
       "0.13114950123999203"
      ]
     },
     "execution_count": 148,
     "metadata": {},
     "output_type": "execute_result"
    }
   ],
   "source": [
    "df['CREDIT_SCORE'].std()"
   ]
  },
  {
   "cell_type": "code",
   "execution_count": 149,
   "id": "f13abe36-c43e-466b-8c5e-d99d91002b1a",
   "metadata": {},
   "outputs": [
    {
     "data": {
      "text/plain": [
       "0.5396602419010073"
      ]
     },
     "execution_count": 149,
     "metadata": {},
     "output_type": "execute_result"
    }
   ],
   "source": [
    "df['CREDIT_SCORE'].mean()"
   ]
  },
  {
   "cell_type": "code",
   "execution_count": 150,
   "id": "ec9ab365-0b88-4691-bc24-fe4fb115d0ac",
   "metadata": {},
   "outputs": [
    {
     "data": {
      "text/plain": [
       "0.45352965996572725"
      ]
     },
     "execution_count": 150,
     "metadata": {},
     "output_type": "execute_result"
    }
   ],
   "source": [
    "df['CREDIT_SCORE'].quantile(0.25)"
   ]
  },
  {
   "cell_type": "markdown",
   "id": "a3558b28-1d7a-4f64-8a72-a86308a90a95",
   "metadata": {},
   "source": [
    "__ANNUAL_MILEAGE__"
   ]
  },
  {
   "cell_type": "code",
   "execution_count": 151,
   "id": "f574383f-fe7f-4739-9fcc-61e1cfe67d7a",
   "metadata": {},
   "outputs": [
    {
     "data": {
      "text/plain": [
       "2815.2044283492555"
      ]
     },
     "execution_count": 151,
     "metadata": {},
     "output_type": "execute_result"
    }
   ],
   "source": [
    "df['ANNUAL_MILEAGE'].std()"
   ]
  },
  {
   "cell_type": "code",
   "execution_count": 152,
   "id": "31209a75-a5dd-442a-b5d5-fdaee434f02c",
   "metadata": {},
   "outputs": [
    {
     "data": {
      "text/plain": [
       "11571.198280494358"
      ]
     },
     "execution_count": 152,
     "metadata": {},
     "output_type": "execute_result"
    }
   ],
   "source": [
    "df['ANNUAL_MILEAGE'].mean()"
   ]
  },
  {
   "cell_type": "code",
   "execution_count": 154,
   "id": "3749c191-30fc-48f6-a5f2-a14c601355e1",
   "metadata": {},
   "outputs": [
    {
     "data": {
      "text/plain": [
       "12000.0"
      ]
     },
     "execution_count": 154,
     "metadata": {},
     "output_type": "execute_result"
    }
   ],
   "source": [
    "df['ANNUAL_MILEAGE'].quantile(0.5)"
   ]
  },
  {
   "cell_type": "markdown",
   "id": "63379ebb-fb63-4092-9ec4-991c31f15513",
   "metadata": {},
   "source": [
    "__SPEEDING_VIOLATIONS__"
   ]
  },
  {
   "cell_type": "code",
   "execution_count": 155,
   "id": "c13ad42c-0218-42ec-853d-8f480bb3c1d7",
   "metadata": {},
   "outputs": [
    {
     "data": {
      "text/plain": [
       "2.3460339919539805"
      ]
     },
     "execution_count": 155,
     "metadata": {},
     "output_type": "execute_result"
    }
   ],
   "source": [
    "df['SPEEDING_VIOLATIONS'].std()"
   ]
  },
  {
   "cell_type": "code",
   "execution_count": 158,
   "id": "8965e711-e5d2-4c5d-a2ad-6d7b7e2bfdbc",
   "metadata": {},
   "outputs": [
    {
     "data": {
      "text/plain": [
       "1.6029016657710908"
      ]
     },
     "execution_count": 158,
     "metadata": {},
     "output_type": "execute_result"
    }
   ],
   "source": [
    "df['SPEEDING_VIOLATIONS'].mean()"
   ]
  },
  {
   "cell_type": "code",
   "execution_count": 163,
   "id": "6c9cf172-b924-45f1-a449-862a1729f40f",
   "metadata": {},
   "outputs": [
    {
     "data": {
      "text/plain": [
       "1.0"
      ]
     },
     "execution_count": 163,
     "metadata": {},
     "output_type": "execute_result"
    }
   ],
   "source": [
    "df['SPEEDING_VIOLATIONS'].quantile(0.5)"
   ]
  },
  {
   "cell_type": "markdown",
   "id": "dcf4a640-f013-47c7-88e8-d35a997a405b",
   "metadata": {},
   "source": [
    "__PAST_ACCIDENTS__"
   ]
  },
  {
   "cell_type": "code",
   "execution_count": 164,
   "id": "3a6b301f-86e9-498d-bc17-a5efaec06f91",
   "metadata": {},
   "outputs": [
    {
     "data": {
      "text/plain": [
       "1.7308231168859454"
      ]
     },
     "execution_count": 164,
     "metadata": {},
     "output_type": "execute_result"
    }
   ],
   "source": [
    "df['PAST_ACCIDENTS'].std()"
   ]
  },
  {
   "cell_type": "code",
   "execution_count": 165,
   "id": "556cb0e7-2f82-4f8a-9682-649743b7e435",
   "metadata": {},
   "outputs": [
    {
     "data": {
      "text/plain": [
       "1.1470535554361454"
      ]
     },
     "execution_count": 165,
     "metadata": {},
     "output_type": "execute_result"
    }
   ],
   "source": [
    "df['PAST_ACCIDENTS'].mean()"
   ]
  },
  {
   "cell_type": "code",
   "execution_count": 167,
   "id": "b1c86210-9271-4384-a6b3-32ea35893e27",
   "metadata": {},
   "outputs": [
    {
     "data": {
      "text/plain": [
       "1.0"
      ]
     },
     "execution_count": 167,
     "metadata": {},
     "output_type": "execute_result"
    }
   ],
   "source": [
    "df['PAST_ACCIDENTS'].quantile(0.6)"
   ]
  },
  {
   "cell_type": "markdown",
   "id": "379d7a7d-8e53-4df0-a14e-f7edff493368",
   "metadata": {},
   "source": [
    "__OUTCOME__"
   ]
  },
  {
   "cell_type": "code",
   "execution_count": 168,
   "id": "44269919-656b-44d6-a3d8-eb9ece055c58",
   "metadata": {},
   "outputs": [
    {
     "data": {
      "text/plain": [
       "0.4478692341154309"
      ]
     },
     "execution_count": 168,
     "metadata": {},
     "output_type": "execute_result"
    }
   ],
   "source": [
    "df['OUTCOME'].std()"
   ]
  },
  {
   "cell_type": "code",
   "execution_count": 169,
   "id": "86f977aa-e9db-4a58-a966-ec75e1107160",
   "metadata": {},
   "outputs": [
    {
     "data": {
      "text/plain": [
       "0.27762851513523196"
      ]
     },
     "execution_count": 169,
     "metadata": {},
     "output_type": "execute_result"
    }
   ],
   "source": [
    "df['OUTCOME'].mean()"
   ]
  },
  {
   "cell_type": "code",
   "execution_count": 173,
   "id": "9ffbb5d0-848f-4947-bca5-79f1c3586697",
   "metadata": {},
   "outputs": [
    {
     "data": {
      "text/plain": [
       "1.0"
      ]
     },
     "execution_count": 173,
     "metadata": {},
     "output_type": "execute_result"
    }
   ],
   "source": [
    "df['OUTCOME'].quantile(0.8)"
   ]
  },
  {
   "cell_type": "markdown",
   "id": "db9c6005-4050-4551-b807-87a7ff836127",
   "metadata": {},
   "source": [
    "__VISUALIZATION__"
   ]
  },
  {
   "cell_type": "code",
   "execution_count": 222,
   "id": "3602d008-56c2-4814-ba3e-56506fedbbbd",
   "metadata": {},
   "outputs": [
    {
     "data": {
      "image/png": "[encoded data removed]",
      "text/plain": [
       "<Figure size 640x480 with 1 Axes>"
      ]
     },
     "metadata": {},
     "output_type": "display_data"
    }
   ],
   "source": [
    "N = 40\n",
    "ind = np.arange(N)\n",
    "width = 0.35\n",
    "\n",
    "fig, ax = plt.subplots()\n",
    "\n",
    "# p1 = ax.bar(ind - width/2, df['OUTCOME'][:N].apply(lambda x: 5 if x > 0.0 else x), width, label='OUTCOME', color='r')\n",
    "p1 = ax.bar(ind - width/2, df['OUTCOME'][:N], width, label='OUTCOME', color='r')\n",
    "p2 = ax.bar(ind + width/2, df['PAST_ACCIDENTS'][:N], width, label='PAST_ACCIDENTS', color='b')\n",
    "ax.set_xlabel('Index')\n",
    "ax.set_ylabel('Value')\n",
    "ax.set_title('Side by side OUTCOME to PAST_ACCIDENTS')\n",
    "ax.legend()"
   ]
  },
  {
   "cell_type": "code",
   "execution_count": 228,
   "id": "73d9136e-f5ae-402b-a5d7-726846fefe3a",
   "metadata": {},
   "outputs": [
    {
     "data": {
      "text/plain": [
       "Text(0.5, 1.0, 'outcome to credit_score')"
      ]
     },
     "execution_count": 228,
     "metadata": {},
     "output_type": "execute_result"
    },
    {
     "data": {
      "image/png": "[encoded data removed]",
      "text/plain": [
       "<Figure size 640x480 with 1 Axes>"
      ]
     },
     "metadata": {},
     "output_type": "display_data"
    }
   ],
   "source": [
    "df[['OUTCOME', 'CREDIT_SCORE']][:40].plot()\n",
    "plt.title('outcome to credit_score')"
   ]
  },
  {
   "cell_type": "code",
   "execution_count": 252,
   "id": "dfe9a481-6e44-4e7e-b221-edee091aeae4",
   "metadata": {},
   "outputs": [
    {
     "data": {
      "text/plain": [
       "<matplotlib.legend.Legend at 0x7fe7f8598750>"
      ]
     },
     "execution_count": 252,
     "metadata": {},
     "output_type": "execute_result"
    },
    {
     "data": {
      "image/png": "[encoded data removed]",
      "text/plain": [
       "<Figure size 640x480 with 2 Axes>"
      ]
     },
     "metadata": {},
     "output_type": "display_data"
    }
   ],
   "source": [
    "N = 20\n",
    "fig, ax1 = plt.subplots()\n",
    "fig.suptitle('outcome to annual_mileage')\n",
    "ax1.plot(df['OUTCOME'][:N], color='r', label='OUTCOME')\n",
    "plt.legend(loc='upper left') \n",
    "ax2 = ax1.twinx()\n",
    "ax2.plot(df['ANNUAL_MILEAGE'][:N], label='ANNUAL_MILEAGE')\n",
    "plt.legend(loc='upper right') "
   ]
  },
  {
   "cell_type": "code",
   "execution_count": 281,
   "id": "d7c7e209-bee4-4749-98f0-62e9bccd66cf",
   "metadata": {},
   "outputs": [
    {
     "data": {
      "text/plain": [
       "<matplotlib.legend.Legend at 0x7fe7f9778710>"
      ]
     },
     "execution_count": 281,
     "metadata": {},
     "output_type": "execute_result"
    },
    {
     "data": {
      "image/png": "[encoded data removed]",
      "text/plain": [
       "<Figure size 640x480 with 1 Axes>"
      ]
     },
     "metadata": {},
     "output_type": "display_data"
    }
   ],
   "source": [
    "df['CREDIT_SCORE'].plot.hist(label='CREDIT_SCORE', bins=100)\n",
    "plt.legend(loc='upper right') "
   ]
  },
  {
   "cell_type": "code",
   "execution_count": 282,
   "id": "232b434a-e189-44a6-b5bb-c7ac9252d2fb",
   "metadata": {},
   "outputs": [
    {
     "data": {
      "text/plain": [
       "<matplotlib.legend.Legend at 0x7fe7f92cdf10>"
      ]
     },
     "execution_count": 282,
     "metadata": {},
     "output_type": "execute_result"
    },
    {
     "data": {
      "image/png": "[encoded data removed]",
      "text/plain": [
       "<Figure size 640x480 with 2 Axes>"
      ]
     },
     "metadata": {},
     "output_type": "display_data"
    }
   ],
   "source": [
    "N = 30\n",
    "ind = np.arange(N)\n",
    "fig, ax1 = plt.subplots()\n",
    "\n",
    "fig.suptitle('outcome to annual_mileage')\n",
    "ax1.bar(ind, df['OUTCOME'][:N], color='r', label='OUTCOME')\n",
    "plt.legend(loc='upper left') \n",
    "\n",
    "ax2 = ax1.twinx()\n",
    "ax2.bar(ind, df['GENDER'][:N], label='GENDER')\n",
    "plt.ylim((0, 2))\n",
    "plt.legend(loc='upper right') "
   ]
  },
  {
   "cell_type": "code",
   "execution_count": 275,
   "id": "e7bb7399-da14-4963-b660-9af9b0440d3b",
   "metadata": {
    "scrolled": true
   },
   "outputs": [
    {
     "data": {
      "text/plain": [
       "<matplotlib.legend.Legend at 0x7fe7f9934950>"
      ]
     },
     "execution_count": 275,
     "metadata": {},
     "output_type": "execute_result"
    },
    {
     "data": {
      "image/png": "[encoded data removed]",
      "text/plain": [
       "<Figure size 640x480 with 2 Axes>"
      ]
     },
     "metadata": {},
     "output_type": "display_data"
    }
   ],
   "source": [
    "N = 20\n",
    "fig, ax1 = plt.subplots()\n",
    "fig.suptitle('outcome to annual_mileage')\n",
    "ax1.plot(df['OUTCOME'][:N], color='r', label='OUTCOME')\n",
    "plt.legend(loc='upper left') \n",
    "ax2 = ax1.twinx()\n",
    "ax2.plot(df['EDUCATION'][:N], color='pink', label='EDUCATION')\n",
    "plt.legend(loc='upper right') "
   ]
  },
  {
   "cell_type": "code",
   "execution_count": 363,
   "id": "4687390c-e505-4f04-86d9-0bf90dfbb74f",
   "metadata": {},
   "outputs": [
    {
     "data": {
      "text/plain": [
       "Text(0.5, 0.98, 'outcome to age')"
      ]
     },
     "execution_count": 363,
     "metadata": {},
     "output_type": "execute_result"
    },
    {
     "data": {
      "image/png": "[encoded data removed]",
      "text/plain": [
       "<Figure size 640x480 with 4 Axes>"
      ]
     },
     "metadata": {},
     "output_type": "display_data"
    }
   ],
   "source": [
    "N = 20\n",
    "fig, ax = plt.subplots(2, 2)\n",
    "\n",
    "df_tmp = df.sort_values('AGE')\n",
    "df_tmp['AGE_N'] = df['AGE'].map({'16-25': 1, '26-39': 2, '40-64': 3, '65+': 4})\n",
    "df_tmp = df_tmp.reset_index(drop=True)\n",
    "\n",
    "fig.suptitle('outcome to age')"
   ]
  },
  {
   "cell_type": "code",
   "execution_count": 366,
   "id": "375c1899-fb53-4e2c-b47d-c9a2fe14e6b4",
   "metadata": {},
   "outputs": [
    {
     "data": {
      "text/plain": [
       "[<matplotlib.lines.Line2D at 0x7fe7f8a79f10>]"
      ]
     },
     "execution_count": 366,
     "metadata": {},
     "output_type": "execute_result"
    },
    {
     "data": {
      "image/png": "[encoded data removed]",
      "text/plain": [
       "<Figure size 640x480 with 2 Axes>"
      ]
     },
     "metadata": {},
     "output_type": "display_data"
    }
   ],
   "source": [
    "fig, ax = plt.subplots()\n",
    "ax.plot(df_tmp['OUTCOME'][500:550], color='r', label='OUTCOME')\n",
    "ax00 = ax.twinx()\n",
    "ax00.plot(df_tmp['AGE_N'][500:550], color='b', label='AGE')"
   ]
  },
  {
   "cell_type": "code",
   "execution_count": 367,
   "id": "c6acc0e8-f5f8-448f-a7dc-f00adeea77a1",
   "metadata": {},
   "outputs": [
    {
     "data": {
      "text/plain": [
       "[<matplotlib.lines.Line2D at 0x7fe7fa8746d0>]"
      ]
     },
     "execution_count": 367,
     "metadata": {},
     "output_type": "execute_result"
    },
    {
     "data": {
      "image/png": "[encoded data removed]",
      "text/plain": [
       "<Figure size 640x480 with 2 Axes>"
      ]
     },
     "metadata": {},
     "output_type": "display_data"
    }
   ],
   "source": [
    "fig, ax = plt.subplots()\n",
    "ax.plot(df_tmp['OUTCOME'][1500:1550], color='r', label='OUTCOME')\n",
    "ax01 = ax.twinx()\n",
    "ax01.plot(df_tmp['AGE_N'][1500:1550], color='b', label='AGE')"
   ]
  },
  {
   "cell_type": "code",
   "execution_count": 372,
   "id": "d76cf4c7-ddc3-431c-997d-79212eb8e605",
   "metadata": {},
   "outputs": [
    {
     "data": {
      "text/plain": [
       "[<matplotlib.lines.Line2D at 0x7fe807502f10>]"
      ]
     },
     "execution_count": 372,
     "metadata": {},
     "output_type": "execute_result"
    },
    {
     "data": {
      "image/png": "[encoded data removed]",
      "text/plain": [
       "<Figure size 640x480 with 2 Axes>"
      ]
     },
     "metadata": {},
     "output_type": "display_data"
    }
   ],
   "source": [
    "fig, ax = plt.subplots()\n",
    "ax.plot(df_tmp['OUTCOME'][3500:3550], color='r', label='OUTCOME')\n",
    "ax10 = ax.twinx()\n",
    "ax10.plot(df_tmp['AGE_N'][3500:3550], color='b', label='AGE')"
   ]
  },
  {
   "cell_type": "code",
   "execution_count": 369,
   "id": "ac31408f-3826-4ad9-ae5f-3e11cd58e716",
   "metadata": {},
   "outputs": [
    {
     "data": {
      "text/plain": [
       "[<matplotlib.lines.Line2D at 0x7fe7f833f690>]"
      ]
     },
     "execution_count": 369,
     "metadata": {},
     "output_type": "execute_result"
    },
    {
     "data": {
      "image/png": "[encoded data removed]",
      "text/plain": [
       "<Figure size 640x480 with 2 Axes>"
      ]
     },
     "metadata": {},
     "output_type": "display_data"
    }
   ],
   "source": [
    "fig, ax = plt.subplots()\n",
    "ax.plot(df_tmp['OUTCOME'][4500:4550], color='r', label='OUTCOME')\n",
    "ax11 = ax.twinx()\n",
    "ax11.plot(df_tmp['AGE_N'][4500:4550], color='b', label='AGE')"
   ]
  },
  {
   "cell_type": "markdown",
   "id": "4921c057-8a09-4048-812e-2c8c2696a504",
   "metadata": {},
   "source": [
    "__CONCLUSIONS__"
   ]
  },
  {
   "cell_type": "markdown",
   "id": "c1074ea2-8c67-4c98-9c03-b1f9be8ede76",
   "metadata": {},
   "source": [
    "Що до завдання з речення - Company wants to know the reason why claim was not made. (Компанія хоче дізнатися причину, чому не була подана заява на відшкодування), ну та якби я не знаю чому, можна лише подивитися паттерни за якими людина подала заяву на відшкодування (якщо вважати, що всі дані це записи за якими можна подати заяву на страховку)\n",
    "\n",
    "**Що я момітив за графіками, жінки частіше подають заяви (можливо мала вибірка)**\n",
    "**Водії в яких більший пробіг в рік частіше подають заяви**\n",
    "**Водії в яких більше було 1 ДТП зазвичай НЕ подають заяви**\n",
    "**Молоді водії більш часто подають заяви**"
   ]
  }
 ],
 "metadata": {
  "kernelspec": {
   "display_name": "Python 3 (ipykernel)",
   "language": "python",
   "name": "python3"
  },
  "language_info": {
   "codemirror_mode": {
    "name": "ipython",
    "version": 3
   },
   "file_extension": ".py",
   "mimetype": "text/x-python",
   "name": "python",
   "nbconvert_exporter": "python",
   "pygments_lexer": "ipython3",
   "version": "3.11.0rc1"
  }
 },
 "nbformat": 4,
 "nbformat_minor": 5
}
