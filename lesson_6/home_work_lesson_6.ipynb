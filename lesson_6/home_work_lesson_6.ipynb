{
 "cells": [
  {
   "cell_type": "code",
   "execution_count": 2,
   "id": "879ab0c7-ec2d-4f7d-a480-33e4eeca9ef0",
   "metadata": {},
   "outputs": [],
   "source": [
    "import matplotlib.pyplot as plt\n",
    "import pandas as pd \n",
    "import numpy as np\n",
    "\n",
    "from sklearn.datasets import load_diabetes\n",
    "\n",
    "from sklearn.model_selection import train_test_split\n",
    "\n",
    "from sklearn.preprocessing import StandardScaler\n",
    "from sklearn.preprocessing import PolynomialFeatures\n",
    "\n",
    "from sklearn.linear_model import LinearRegression\n",
    "from sklearn.linear_model import Ridge\n",
    "from sklearn.linear_model import Lasso"
   ]
  },
  {
   "cell_type": "code",
   "execution_count": 6,
   "id": "35a85fdb-6efd-413c-9e65-f250b6749b03",
   "metadata": {
    "scrolled": true
   },
   "outputs": [
    {
     "data": {
      "text/plain": [
       "(array([[ 0.03807591,  0.05068012,  0.06169621, ..., -0.00259226,\n",
       "          0.01990749, -0.01764613],\n",
       "        [-0.00188202, -0.04464164, -0.05147406, ..., -0.03949338,\n",
       "         -0.06833155, -0.09220405],\n",
       "        [ 0.08529891,  0.05068012,  0.04445121, ..., -0.00259226,\n",
       "          0.00286131, -0.02593034],\n",
       "        ...,\n",
       "        [ 0.04170844,  0.05068012, -0.01590626, ..., -0.01107952,\n",
       "         -0.04688253,  0.01549073],\n",
       "        [-0.04547248, -0.04464164,  0.03906215, ...,  0.02655962,\n",
       "          0.04452873, -0.02593034],\n",
       "        [-0.04547248, -0.04464164, -0.0730303 , ..., -0.03949338,\n",
       "         -0.00422151,  0.00306441]]),\n",
       " array([151.,  75., 141., 206., 135.,  97., 138.,  63., 110., 310., 101.,\n",
       "         69., 179., 185., 118., 171., 166., 144.,  97., 168.,  68.,  49.,\n",
       "         68., 245., 184., 202., 137.,  85., 131., 283., 129.,  59., 341.,\n",
       "         87.,  65., 102., 265., 276., 252.,  90., 100.,  55.,  61.,  92.,\n",
       "        259.,  53., 190., 142.,  75., 142., 155., 225.,  59., 104., 182.,\n",
       "        128.,  52.,  37., 170., 170.,  61., 144.,  52., 128.,  71., 163.,\n",
       "        150.,  97., 160., 178.,  48., 270., 202., 111.,  85.,  42., 170.,\n",
       "        200., 252., 113., 143.,  51.,  52., 210.,  65., 141.,  55., 134.,\n",
       "         42., 111.,  98., 164.,  48.,  96.,  90., 162., 150., 279.,  92.,\n",
       "         83., 128., 102., 302., 198.,  95.,  53., 134., 144., 232.,  81.,\n",
       "        104.,  59., 246., 297., 258., 229., 275., 281., 179., 200., 200.,\n",
       "        173., 180.,  84., 121., 161.,  99., 109., 115., 268., 274., 158.,\n",
       "        107.,  83., 103., 272.,  85., 280., 336., 281., 118., 317., 235.,\n",
       "         60., 174., 259., 178., 128.,  96., 126., 288.,  88., 292.,  71.,\n",
       "        197., 186.,  25.,  84.,  96., 195.,  53., 217., 172., 131., 214.,\n",
       "         59.,  70., 220., 268., 152.,  47.,  74., 295., 101., 151., 127.,\n",
       "        237., 225.,  81., 151., 107.,  64., 138., 185., 265., 101., 137.,\n",
       "        143., 141.,  79., 292., 178.,  91., 116.,  86., 122.,  72., 129.,\n",
       "        142.,  90., 158.,  39., 196., 222., 277.,  99., 196., 202., 155.,\n",
       "         77., 191.,  70.,  73.,  49.,  65., 263., 248., 296., 214., 185.,\n",
       "         78.,  93., 252., 150.,  77., 208.,  77., 108., 160.,  53., 220.,\n",
       "        154., 259.,  90., 246., 124.,  67.,  72., 257., 262., 275., 177.,\n",
       "         71.,  47., 187., 125.,  78.,  51., 258., 215., 303., 243.,  91.,\n",
       "        150., 310., 153., 346.,  63.,  89.,  50.,  39., 103., 308., 116.,\n",
       "        145.,  74.,  45., 115., 264.,  87., 202., 127., 182., 241.,  66.,\n",
       "         94., 283.,  64., 102., 200., 265.,  94., 230., 181., 156., 233.,\n",
       "         60., 219.,  80.,  68., 332., 248.,  84., 200.,  55.,  85.,  89.,\n",
       "         31., 129.,  83., 275.,  65., 198., 236., 253., 124.,  44., 172.,\n",
       "        114., 142., 109., 180., 144., 163., 147.,  97., 220., 190., 109.,\n",
       "        191., 122., 230., 242., 248., 249., 192., 131., 237.,  78., 135.,\n",
       "        244., 199., 270., 164.,  72.,  96., 306.,  91., 214.,  95., 216.,\n",
       "        263., 178., 113., 200., 139., 139.,  88., 148.,  88., 243.,  71.,\n",
       "         77., 109., 272.,  60.,  54., 221.,  90., 311., 281., 182., 321.,\n",
       "         58., 262., 206., 233., 242., 123., 167.,  63., 197.,  71., 168.,\n",
       "        140., 217., 121., 235., 245.,  40.,  52., 104., 132.,  88.,  69.,\n",
       "        219.,  72., 201., 110.,  51., 277.,  63., 118.,  69., 273., 258.,\n",
       "         43., 198., 242., 232., 175.,  93., 168., 275., 293., 281.,  72.,\n",
       "        140., 189., 181., 209., 136., 261., 113., 131., 174., 257.,  55.,\n",
       "         84.,  42., 146., 212., 233.,  91., 111., 152., 120.,  67., 310.,\n",
       "         94., 183.,  66., 173.,  72.,  49.,  64.,  48., 178., 104., 132.,\n",
       "        220.,  57.]))"
      ]
     },
     "execution_count": 6,
     "metadata": {},
     "output_type": "execute_result"
    }
   ],
   "source": [
    "X, y = load_diabetes(return_X_y=True)\n",
    "X, y"
   ]
  },
  {
   "cell_type": "code",
   "execution_count": 35,
   "id": "de39249a-1de8-48eb-a6d1-768dab2af9ec",
   "metadata": {},
   "outputs": [
    {
     "data": {
      "text/plain": [
       "(331, 10)"
      ]
     },
     "execution_count": 35,
     "metadata": {},
     "output_type": "execute_result"
    }
   ],
   "source": [
    "X_train, X_test, y_train, y_test = train_test_split(X, y, random_state=42)\n",
    "scaler = StandardScaler()\n",
    "X_train = scaler.fit_transform(X_train)\n",
    "X_test = scaler.transform(X_test)\n",
    "X_train.shape"
   ]
  },
  {
   "cell_type": "markdown",
   "id": "d5e8db56-63c8-4218-a449-fb647a4b1e8f",
   "metadata": {},
   "source": [
    "__Linear Regression__"
   ]
  },
  {
   "cell_type": "code",
   "execution_count": 53,
   "id": "e0ead0fa-18ab-4134-9303-77e2169f205b",
   "metadata": {},
   "outputs": [
    {
     "name": "stdout",
     "output_type": "stream",
     "text": [
      "Linear Regression\n",
      "R2 train score = 0.519034189167905\n",
      "R2 test score = 0.4849058889476756\n",
      "b = 154.34441087613294 \n",
      "w = [  2.21507746 -11.51448208  25.07696866  18.24929273 -44.14464184\n",
      "  24.51385277   5.49759327  13.00675611  33.37981899   1.2479725 ]\n"
     ]
    }
   ],
   "source": [
    "lin_reg = LinearRegression()\n",
    "lin_reg.fit(X_train, y_train)\n",
    "regressor = lin_reg\n",
    "z = lin_reg.predict(X_train)\n",
    "\n",
    "print('Linear Regression')\n",
    "print('R2 train score =', regressor.score(X_train, y_train))\n",
    "print('R2 test score =', regressor.score(X_test, y_test))\n",
    "print('b = {} \\nw = {}'.format(regressor.intercept_, regressor.coef_))\n",
    "\n",
    "# plt.figure(figsize=(8, 6))\n",
    "# plt.scatter(X_train[:,0], y_train, color='blue', label='Training Data')\n",
    "# plt.plot(X_train[:,0], lin_reg.predict(X_train), color='red', label='Regression Line')\n",
    "# plt.legend()\n",
    "# plt.show()\n",
    "\n",
    "# fig = plt.figure()\n",
    "# fig.subplots_adjust(hspace=0.7, wspace=0.7) \n",
    "\n",
    "# for i in range(9):\n",
    "#     ax = fig.add_subplot(3, 3, i+1)\n",
    "#     ax.hist(X_train[:,i], bins=20, color='skyblue', edgecolor='black')\n",
    "#     plt.title('Histogram of data column {}'.format(i+1)) "
   ]
  },
  {
   "cell_type": "markdown",
   "id": "b24b5039-70a0-4965-8c44-4521b7eb52cc",
   "metadata": {},
   "source": [
    "__Ridge__"
   ]
  },
  {
   "cell_type": "code",
   "execution_count": 54,
   "id": "b3fda592-fa19-4ef1-ae7c-dbc288237c45",
   "metadata": {},
   "outputs": [
    {
     "name": "stdout",
     "output_type": "stream",
     "text": [
      "Ridge\n",
      "R2 train score = 0.5187336937116794\n",
      "R2 test score = 0.48589618270899804\n",
      "b = 154.34441087613294 \n",
      "w = [  2.27390102 -11.4397727   25.21469644  18.13079118 -34.26196577\n",
      "  16.78489      1.19943013  11.6117361   29.58377377   1.36459301]\n"
     ]
    }
   ],
   "source": [
    "ridge_reg = Ridge()\n",
    "ridge_reg.fit(X_train,y_train)\n",
    "regressor = ridge_reg\n",
    "\n",
    "print('Ridge')\n",
    "print('R2 train score =', regressor.score(X_train, y_train))\n",
    "print('R2 test score =', regressor.score(X_test, y_test))\n",
    "print('b = {} \\nw = {}'.format(regressor.intercept_, regressor.coef_))"
   ]
  },
  {
   "cell_type": "markdown",
   "id": "50f35b76-018f-4900-8aff-8ae7da1ace94",
   "metadata": {},
   "source": [
    "__Lasso__"
   ]
  },
  {
   "cell_type": "code",
   "execution_count": 55,
   "id": "8148adbd-2b0d-4ca1-bf10-9939e18d2305",
   "metadata": {},
   "outputs": [
    {
     "name": "stdout",
     "output_type": "stream",
     "text": [
      "Lasso\n",
      "R2 train score = 0.513668793965127\n",
      "R2 test score = 0.4963578606958068\n",
      "b = 154.34441087613294 \n",
      "w= [  1.19954496  -9.30141259  25.66282968  17.04000993  -8.35311397\n",
      "  -0.         -10.83254107   3.29109958  21.14447067   1.06104217]\n"
     ]
    }
   ],
   "source": [
    "lasso_reg = Lasso()\n",
    "lasso_reg.fit(X_train, y_train)\n",
    "regressor = lasso_reg\n",
    "\n",
    "print('Lasso')\n",
    "print('R2 train score =', regressor.score(X_train, y_train))\n",
    "print('R2 test score =', regressor.score(X_test, y_test))\n",
    "print('b = {} \\nw= {}'.format(regressor.intercept_, regressor.coef_))"
   ]
  },
  {
   "cell_type": "markdown",
   "id": "9ce2373c-d996-40cb-b753-df32613c9f76",
   "metadata": {},
   "source": [
    "__Polynomial + Linear Regression__"
   ]
  },
  {
   "cell_type": "code",
   "execution_count": 47,
   "id": "46459906-1dda-454e-87c7-4f803d85d275",
   "metadata": {},
   "outputs": [
    {
     "name": "stdout",
     "output_type": "stream",
     "text": [
      "Polynomial + Linear Regression\n",
      "R2 train score = 0.6048153298370551\n",
      "R2 test score = 0.4242419459459529\n",
      "b: 169.3611299514314, \n",
      "w= [ 6.63717414e+00 -1.45382518e+01  1.86252605e+01  2.08333518e+01\n",
      "  3.18660959e+02 -2.84947163e+02 -1.36210628e+02 -3.17304524e+00\n",
      " -7.55991399e+01 -8.38993735e-01  6.23773847e+00  2.43828891e+00\n",
      " -4.01654056e+00  3.95861686e+00  9.84147621e-01 -1.80536756e+01\n",
      "  8.15046446e+00  1.98589294e+01  5.56641142e-01  3.03647104e-01\n",
      " -1.67180055e+00 -1.42639521e+00  3.49445976e+00 -8.65489521e+00\n",
      "  1.28385102e+01 -8.21138368e-01 -1.33146931e+01  9.86510091e+00\n",
      "  2.03987000e+00  1.78235348e+00  8.67892143e+00 -1.84805796e+01\n",
      "  1.70771667e+01  3.45060945e+00 -3.18552468e+00  7.72505665e+00\n",
      "  2.63789486e+00 -1.03821730e-01  5.17314256e+01 -3.81046923e+01\n",
      " -2.15567908e+01 -4.73638861e+00 -2.19317895e+01 -9.63797446e+00\n",
      "  2.62233434e+02 -4.03644715e+02 -1.68774466e+02 -2.63216542e+01\n",
      " -3.29966669e+02 -1.53184448e+01  1.60163181e+02  1.14140141e+02\n",
      " -5.49893606e+00  2.73551201e+02  7.51818235e+00  3.00732273e+01\n",
      "  2.05655210e+01  1.15240475e+02  1.65963884e+01  2.18115955e+01\n",
      " -9.87691192e-01  1.24750933e+01  5.46279054e+01  1.07871013e+01\n",
      "  3.52441574e+00]\n"
     ]
    }
   ],
   "source": [
    "poly = PolynomialFeatures(degree=2, include_bias=False)\n",
    "X_train_poly= poly.fit_transform(X_train)\n",
    "X_test_poly = poly.transform(X_test)\n",
    "poly_lin_reg = LinearRegression().fit(X_train_poly, y_train)\n",
    "regressor = poly_lin_reg\n",
    "\n",
    "print('Polynomial + Linear Regression')\n",
    "print('R2 train score =', regressor.score(X_train_poly, y_train))\n",
    "print('R2 test score =', regressor.score(X_test_poly, y_test))\n",
    "print('b: {}, \\nw= {}'.format(regressor.intercept_, regressor.coef_))"
   ]
  },
  {
   "cell_type": "markdown",
   "id": "c2c2e196-5a1c-4681-b3ca-2a443ec6f4e4",
   "metadata": {},
   "source": [
    "__Ridge + Polynomial__"
   ]
  },
  {
   "cell_type": "code",
   "execution_count": 57,
   "id": "07c5d2f9-99c4-4644-8896-b8c81df8c207",
   "metadata": {},
   "outputs": [
    {
     "name": "stdout",
     "output_type": "stream",
     "text": [
      "Polynomial + Ridge\n",
      "R2 train score = 0.5995359802704303\n",
      "R2 test score = 0.45547765167298815\n",
      "b: 138.930280116238, \n",
      "w= [  6.20783884 -13.37308826  18.6144183   20.34739723  -7.77471812\n",
      "   1.26376476 -17.3776496   -1.36503684  30.06503761  -0.28078522\n",
      "   5.72778261   4.09257639  -3.6889951    3.81171496  -2.28847005\n",
      " -14.1764363   10.08123378  18.53202758   0.86201839   0.40259693\n",
      "  -1.53781463  -0.25799752   3.11002014   3.73786802   0.90218241\n",
      "  -3.44116895 -11.29649268   2.43752272   2.37382475   2.27113611\n",
      "   8.36668801 -21.03486589  19.6415119    3.93453825  -4.15432746\n",
      "   5.68742058   2.96830795  -0.27063951  22.63140577 -14.24667291\n",
      "  -9.87176136  -2.88427841  -9.80625767  -9.67120871   6.4875808\n",
      "   7.86968754   8.81723096  -9.6590869  -37.4460028   -9.88721393\n",
      "  -5.84958378 -22.81974911 -13.65640726  32.38186493   3.27467034\n",
      "  -2.54581769   6.1970912    9.65259376  14.14799116  15.95261792\n",
      "  -8.60818766  11.57843942  15.20844164   8.48518855   3.48570714]\n"
     ]
    }
   ],
   "source": [
    "poly = PolynomialFeatures(degree=2, include_bias=False)\n",
    "X_train_poly= poly.fit_transform(X_train)\n",
    "X_test_poly = poly.transform(X_test)\n",
    "\n",
    "poly_ridge = Ridge().fit(X_train_poly, y_train)\n",
    "regressor = poly_ridge\n",
    "\n",
    "print('Polynomial + Ridge')\n",
    "print('R2 train score =', regressor.score(X_train_poly, y_train))\n",
    "print('R2 test score =', regressor.score(X_test_poly, y_test))\n",
    "print('b: {}, \\nw= {}'.format(regressor.intercept_, regressor.coef_))\n"
   ]
  }
 ],
 "metadata": {
  "kernelspec": {
   "display_name": "Python 3 (ipykernel)",
   "language": "python",
   "name": "python3"
  },
  "language_info": {
   "codemirror_mode": {
    "name": "ipython",
    "version": 3
   },
   "file_extension": ".py",
   "mimetype": "text/x-python",
   "name": "python",
   "nbconvert_exporter": "python",
   "pygments_lexer": "ipython3",
   "version": "3.11.0rc1"
  }
 },
 "nbformat": 4,
 "nbformat_minor": 5
}
